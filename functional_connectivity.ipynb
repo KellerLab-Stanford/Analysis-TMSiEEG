{
 "cells": [
  {
   "cell_type": "code",
   "execution_count": 1,
   "id": "3c9eedd5-b5d3-47ed-ab86-b0e293b86a41",
   "metadata": {},
   "outputs": [],
   "source": [
    "import h5py\n",
    "import mne_connectivity"
   ]
  },
  {
   "cell_type": "code",
   "execution_count": 2,
   "id": "d4ccb9fb-3a90-4dc6-a00e-78557817da78",
   "metadata": {},
   "outputs": [
    {
     "data": {
      "text/plain": [
       "\u001b[1;31mInit signature:\u001b[0m\n",
       "\u001b[0mmne_connectivity\u001b[0m\u001b[1;33m.\u001b[0m\u001b[0mSpectralConnectivity\u001b[0m\u001b[1;33m(\u001b[0m\u001b[1;33m\n",
       "\u001b[0m    \u001b[0mdata\u001b[0m\u001b[1;33m,\u001b[0m\u001b[1;33m\n",
       "\u001b[0m    \u001b[0mfreqs\u001b[0m\u001b[1;33m,\u001b[0m\u001b[1;33m\n",
       "\u001b[0m    \u001b[0mn_nodes\u001b[0m\u001b[1;33m,\u001b[0m\u001b[1;33m\n",
       "\u001b[0m    \u001b[0mnames\u001b[0m\u001b[1;33m=\u001b[0m\u001b[1;32mNone\u001b[0m\u001b[1;33m,\u001b[0m\u001b[1;33m\n",
       "\u001b[0m    \u001b[0mindices\u001b[0m\u001b[1;33m=\u001b[0m\u001b[1;34m'all'\u001b[0m\u001b[1;33m,\u001b[0m\u001b[1;33m\n",
       "\u001b[0m    \u001b[0mmethod\u001b[0m\u001b[1;33m=\u001b[0m\u001b[1;32mNone\u001b[0m\u001b[1;33m,\u001b[0m\u001b[1;33m\n",
       "\u001b[0m    \u001b[0mspec_method\u001b[0m\u001b[1;33m=\u001b[0m\u001b[1;32mNone\u001b[0m\u001b[1;33m,\u001b[0m\u001b[1;33m\n",
       "\u001b[0m    \u001b[0mn_epochs_used\u001b[0m\u001b[1;33m=\u001b[0m\u001b[1;32mNone\u001b[0m\u001b[1;33m,\u001b[0m\u001b[1;33m\n",
       "\u001b[0m    \u001b[1;33m**\u001b[0m\u001b[0mkwargs\u001b[0m\u001b[1;33m,\u001b[0m\u001b[1;33m\n",
       "\u001b[0m\u001b[1;33m)\u001b[0m\u001b[1;33m\u001b[0m\u001b[1;33m\u001b[0m\u001b[0m\n",
       "\u001b[1;31mDocstring:\u001b[0m     \n",
       "Spectral connectivity class.\n",
       "\n",
       "This class stores connectivity data that varies over\n",
       "frequencies. The underlying data is an array of shape\n",
       "(n_connections, n_freqs), or (n_nodes, n_nodes, n_freqs).\n",
       "\n",
       "Parameters\n",
       "----------\n",
       "\n",
       "data : np.ndarray ([epochs], n_estimated_nodes, [freqs], [times])\n",
       "    The connectivity data that is a raveled array of\n",
       "    ``(n_estimated_nodes, ...)`` shape. The\n",
       "    ``n_estimated_nodes`` is equal to\n",
       "    ``n_nodes_in * n_nodes_out`` if one is computing\n",
       "    the full connectivity, or a subset of nodes\n",
       "    equal to the length of ``indices`` passed in.\n",
       "\n",
       "freqs : list | np.ndarray\n",
       "    The frequencies at which the connectivity data is computed over.\n",
       "    If the frequencies are \"frequency bands\" (i.e. gamma band), then\n",
       "    these are the median of those bands.\n",
       "\n",
       "n_nodes : int\n",
       "    The number of nodes in the dataset used to compute connectivity.\n",
       "    This should be equal to the number of signals in the original\n",
       "    dataset.\n",
       "\n",
       "names : list | np.ndarray | None\n",
       "    The names of the nodes of the dataset used to compute\n",
       "    connectivity. If 'None' (default), then names will be\n",
       "    a list of integers from 0 to ``n_nodes``. If a list\n",
       "    of names, then it must be equal in length to ``n_nodes``.\n",
       "\n",
       "indices : tuple of arrays | str | None\n",
       "    The indices of relevant connectivity data. If ``'all'`` (default),\n",
       "    then data is connectivity between all nodes. If ``'symmetric'``,\n",
       "    then data is symmetric connectivity between all nodes. If a tuple,\n",
       "    then the first list represents the \"in nodes\", and the second list\n",
       "    represents the \"out nodes\". See \"Notes\" for more information.\n",
       "\n",
       "method : str, optional\n",
       "    The method name used to compute connectivity.\n",
       "\n",
       "spec_method : str, optional\n",
       "    The type of method used to compute spectral analysis,\n",
       "    by default None.\n",
       "\n",
       "n_epochs_used : int, optional\n",
       "    The number of epochs used in the computation of connectivity,\n",
       "    by default None.\n",
       "\n",
       "**kwargs : dict\n",
       "        Extra connectivity parameters. These may include\n",
       "        ``freqs`` for spectral connectivity, and/or\n",
       "        ``times`` for connectivity over time. In addition,\n",
       "        these may include extra parameters that are stored\n",
       "        as xarray ``attrs``.\n",
       "\n",
       "See Also\n",
       "--------\n",
       "mne_connectivity.spectral_connectivity_epochs\n",
       "\u001b[1;31mFile:\u001b[0m           c:\\users\\esolo\\anaconda3\\envs\\lean\\envs\\mne\\lib\\site-packages\\mne_connectivity\\base.py\n",
       "\u001b[1;31mType:\u001b[0m           type\n",
       "\u001b[1;31mSubclasses:\u001b[0m     EpochSpectralConnectivity\n"
      ]
     },
     "metadata": {},
     "output_type": "display_data"
    }
   ],
   "source": [
    "mne_connectivity.SpectralConnectivity?"
   ]
  },
  {
   "cell_type": "code",
   "execution_count": null,
   "id": "8aef4dd3-798a-4bda-be85-9f6fa233f7ee",
   "metadata": {},
   "outputs": [],
   "source": [
    "mne."
   ]
  }
 ],
 "metadata": {
  "kernelspec": {
   "display_name": "Python 3 (ipykernel)",
   "language": "python",
   "name": "python3"
  },
  "language_info": {
   "codemirror_mode": {
    "name": "ipython",
    "version": 3
   },
   "file_extension": ".py",
   "mimetype": "text/x-python",
   "name": "python",
   "nbconvert_exporter": "python",
   "pygments_lexer": "ipython3",
   "version": "3.9.13"
  }
 },
 "nbformat": 4,
 "nbformat_minor": 5
}
