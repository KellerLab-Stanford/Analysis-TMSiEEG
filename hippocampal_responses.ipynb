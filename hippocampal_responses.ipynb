{
 "cells": [
  {
   "cell_type": "markdown",
   "id": "5fd3bb45-a63f-445e-81fc-112838516a3c",
   "metadata": {},
   "source": [
    "## Focus on hippocampal/MTL responses to stimulation"
   ]
  },
  {
   "cell_type": "code",
   "execution_count": 1,
   "id": "b9056719-dae5-454c-882f-57933a3cd8f7",
   "metadata": {},
   "outputs": [],
   "source": [
    "import numpy as np\n",
    "import mne\n",
    "from glob import glob\n",
    "import pandas as pd\n",
    "import pylab as plt\n",
    "\n",
    "# For parallel processing\n",
    "import multiprocessing as mp\n",
    "n_cpus = mp.cpu_count()\n",
    "\n",
    "# For custom codebase\n",
    "import sys\n",
    "sys.path.insert(0, 'C:\\\\Users\\\\esolo\\\\Documents\\\\Python Scripts\\\\lib')\n",
    "from codebase import good_subs, target_dict\n",
    "from utils import swarmplot_subjects"
   ]
  },
  {
   "cell_type": "markdown",
   "id": "786a6b91-7f76-4d06-b555-3bbc41609fb2",
   "metadata": {},
   "source": [
    "### Single-window power estimations for population-level analysis\n",
    "Strategy: Similar to Solomon et al. 2021 (Brain Stim), measure stim vs sham t-stat for ~1 second windows (perhaps +500ms offset from stimulation) and visualize results across the population. Use LMM to analyze for population-level effect."
   ]
  },
  {
   "cell_type": "code",
   "execution_count": 2,
   "id": "4a26f0a6-48e0-43e0-8156-115b66e7f135",
   "metadata": {},
   "outputs": [
    {
     "name": "stdout",
     "output_type": "stream",
     "text": [
      "404\n",
      "405\n",
      "416\n",
      "423\n",
      "429\n",
      "430\n",
      "477\n",
      "483\n",
      "518\n",
      "534\n",
      "538\n",
      "559\n",
      "561\n"
     ]
    }
   ],
   "source": [
    "import pandas as pd\n",
    "from mne.time_frequency import psd_array_multitaper\n",
    "from scipy.stats import ttest_ind\n",
    "from codebase import get_window_power\n",
    "\n",
    "import warnings\n",
    "warnings.filterwarnings(\"ignore\")  # using this for a really dumb deprecation warning, nothing dangerous is happening\n",
    "\n",
    "res = pd.DataFrame() # for storing our outputs\n",
    "\n",
    "# Set some params\n",
    "fs = 500 #saved data is all 500Hz sampling rate\n",
    "freqs = [3, 8]\n",
    "start_time = 1.1 # in seconds\n",
    "win_size = 1.0 # in seconds\n",
    "subtract_baseline = True\n",
    "baseline_start = 0; baseline_win = 0.45 # for subtracting off baseline power\n",
    "\n",
    "for sub in list(good_subs.keys()): #loop through subjects\n",
    "    for sess in good_subs[sub]:  #loop through stim sites/sessions\n",
    "\n",
    "        # Load the data\n",
    "        tms_dat = np.load('./TMSEEG_data/'+sub+'/'+sub+'_TMS_'+sess+'_0_5Hz_1-CleanedFilteredSubsampled.npy')  # using the -0.5 to 2 second files\n",
    "        sham_dat = np.load('./TMSEEG_data/'+sub+'/'+sub+'_Sham_'+sess+'_0_5Hz_1-CleanedFilteredSubsampled.npy')\n",
    "        elecs = pd.read_pickle('./TMSEEG_data/'+sub+'/'+sub+'_'+sess+'_elecs.pkl')\n",
    "        \n",
    "        # Get target electrode/coordinates\n",
    "        target_channel = target_dict[sub][sess][-1]\n",
    "        target_xyz = np.array(target_dict[sub][sess][0:3])\n",
    "        \n",
    "        ## TMS epochs ##\n",
    "        psd_tms, freqs_used = get_window_power(tms_dat, fs=fs, start_time=start_time, win_size=win_size, freqs=freqs, n_cpus=n_cpus)  #output is trials x chans, averaging over frequencies\n",
    "    \n",
    "        ## Sham epochs ##\n",
    "        psd_sham, freqs_used = get_window_power(sham_dat, fs=fs, start_time=start_time, win_size=win_size, freqs=freqs, n_cpus=n_cpus)\n",
    "        \n",
    "        if subtract_baseline:\n",
    "            psd_tms_baseline, bs_freqs_used = get_window_power(tms_dat, fs=fs, start_time=baseline_start, win_size=baseline_win, freqs=freqs, n_cpus=n_cpus)\n",
    "            psd_sham_baseline, _ = get_window_power(sham_dat, fs=fs, start_time=baseline_start, win_size=baseline_win, freqs=freqs, n_cpus=n_cpus)\n",
    "            \n",
    "            psd_tms = psd_tms-psd_tms_baseline\n",
    "            psd_sham = psd_sham-psd_sham_baseline\n",
    "        \n",
    "        # Get TMS vs Sham T-statistic\n",
    "        t, p = ttest_ind(psd_tms, psd_sham, axis=0, equal_var=False)\n",
    "        \n",
    "        # Remove saturated electrodes (thresholding the TEPs)\n",
    "        from codebase import get_saturated_elecs\n",
    "        sat_elecs = get_saturated_elecs(tms_dat, samples=250, thresh_=2)\n",
    "        \n",
    "        for idx in range(len(t)): #loop through electrodes\n",
    "            elec_dict = dict(elecs.iloc[idx])  # harvest electrode information\n",
    "            \n",
    "            # Flag saturated electrodes\n",
    "            if idx in sat_elecs:\n",
    "                sat_flag=True\n",
    "            else:\n",
    "                sat_flag=False\n",
    "                \n",
    "            # Get Euclidean distance to stim site\n",
    "            elec_xyz = np.array(elecs.iloc[idx][['anatX', 'anatY', 'anatZ']])\n",
    "            euc_dist = np.linalg.norm(target_xyz-elec_xyz)\n",
    "            if euc_dist<77.7:\n",
    "                distance_category = 'close'\n",
    "            elif (euc_dist>77.7) & (euc_dist<105.11):\n",
    "                distance_category = 'middle'\n",
    "            else:\n",
    "                distance_category = 'far'\n",
    "            \n",
    "            mydict = {'subject': sub, 'session': sess, 'elec_idx': idx, 'T': t[idx], 'pval': p[idx], \n",
    "                     'powers_tms': psd_tms[:, idx], 'powers_sham': psd_sham[:, idx], 'saturated': sat_flag,\n",
    "                     'target_channel': target_channel, 'target_x': target_xyz[0], 'target_y': target_xyz[1], \n",
    "                     'target_z': target_xyz[2], 'target_distance': euc_dist, 'distance_category': distance_category}\n",
    "            mydict.update(elec_dict)\n",
    "            \n",
    "            # Update the DataFrame\n",
    "            res = res.append(mydict, ignore_index=True)\n",
    "    print(sub)"
   ]
  },
  {
   "cell_type": "markdown",
   "id": "d4d93ce4-46b1-44a9-a392-d990745d34bf",
   "metadata": {},
   "source": [
    "#### Remove possible artifactual responses\n",
    "Despite this being \"cleaned\" data, some amplifier saturation does occur"
   ]
  },
  {
   "cell_type": "code",
   "execution_count": 3,
   "id": "eafa20df-0b59-4003-9f7a-fb00fad42c5e",
   "metadata": {},
   "outputs": [],
   "source": [
    "# Simplest method: apply a T-value threshold (only expect this in the positive direction)\n",
    "# res = res[res['T']<5]\n",
    "\n",
    "# Alternate method: Measure the TEP for each electrode and set a t-value threshold\n",
    "# This will do a good job capturing the saturated channels (e.g. sub 559, elec 62; sub 561, elec 195)\n",
    "# However, it will not work for data that has not been de-trended (should fall back on a raw T-stat threshold) \n",
    "res = res[res['saturated']==False]\n",
    "\n",
    "# Yet another method: Ensure that stimulated electrodes are excluded from analysis\n",
    "\n",
    "# Remove epileptogenic electrodes\n",
    "res = res[res['Seizure_Exclude']==0]\n",
    "\n",
    "# Z-score the target distances for linear modeling\n",
    "from scipy.stats import zscore\n",
    "res['target_distance'] = zscore(res['target_distance'])"
   ]
  },
  {
   "cell_type": "markdown",
   "id": "7fc60a9d-e5f7-444e-9b77-5d926098ed76",
   "metadata": {},
   "source": [
    "#### Population-level hippocampal response"
   ]
  },
  {
   "cell_type": "code",
   "execution_count": 4,
   "id": "9da361c9-aacb-405b-b9f4-e2541cd52996",
   "metadata": {},
   "outputs": [
    {
     "name": "stdout",
     "output_type": "stream",
     "text": [
      "        Mixed Linear Model Regression Results\n",
      "======================================================\n",
      "Model:            MixedLM Dependent Variable: T       \n",
      "No. Observations: 73      Method:             ML      \n",
      "No. Groups:       11      Scale:              0.4163  \n",
      "Min. group size:  2       Log-Likelihood:     -83.3820\n",
      "Max. group size:  22      Converged:          Yes     \n",
      "Mean group size:  6.6                                 \n",
      "------------------------------------------------------\n",
      "              Coef. Std.Err.   z   P>|z| [0.025 0.975]\n",
      "------------------------------------------------------\n",
      "Intercept     0.137    0.174 0.787 0.432 -0.204  0.478\n",
      "g1 Var        0.359    0.307                          \n",
      "======================================================\n",
      "\n"
     ]
    },
    {
     "ename": "KeyError",
     "evalue": "'target'",
     "output_type": "error",
     "traceback": [
      "\u001b[1;31m---------------------------------------------------------------------------\u001b[0m",
      "\u001b[1;31mKeyError\u001b[0m                                  Traceback (most recent call last)",
      "File \u001b[1;32m~\\anaconda3\\envs\\lean\\envs\\mne\\lib\\site-packages\\pandas\\core\\indexes\\base.py:3621\u001b[0m, in \u001b[0;36mIndex.get_loc\u001b[1;34m(self, key, method, tolerance)\u001b[0m\n\u001b[0;32m   3620\u001b[0m \u001b[38;5;28;01mtry\u001b[39;00m:\n\u001b[1;32m-> 3621\u001b[0m     \u001b[38;5;28;01mreturn\u001b[39;00m \u001b[38;5;28;43mself\u001b[39;49m\u001b[38;5;241;43m.\u001b[39;49m\u001b[43m_engine\u001b[49m\u001b[38;5;241;43m.\u001b[39;49m\u001b[43mget_loc\u001b[49m\u001b[43m(\u001b[49m\u001b[43mcasted_key\u001b[49m\u001b[43m)\u001b[49m\n\u001b[0;32m   3622\u001b[0m \u001b[38;5;28;01mexcept\u001b[39;00m \u001b[38;5;167;01mKeyError\u001b[39;00m \u001b[38;5;28;01mas\u001b[39;00m err:\n",
      "File \u001b[1;32m~\\anaconda3\\envs\\lean\\envs\\mne\\lib\\site-packages\\pandas\\_libs\\index.pyx:136\u001b[0m, in \u001b[0;36mpandas._libs.index.IndexEngine.get_loc\u001b[1;34m()\u001b[0m\n",
      "File \u001b[1;32m~\\anaconda3\\envs\\lean\\envs\\mne\\lib\\site-packages\\pandas\\_libs\\index.pyx:163\u001b[0m, in \u001b[0;36mpandas._libs.index.IndexEngine.get_loc\u001b[1;34m()\u001b[0m\n",
      "File \u001b[1;32mpandas\\_libs\\hashtable_class_helper.pxi:5198\u001b[0m, in \u001b[0;36mpandas._libs.hashtable.PyObjectHashTable.get_item\u001b[1;34m()\u001b[0m\n",
      "File \u001b[1;32mpandas\\_libs\\hashtable_class_helper.pxi:5206\u001b[0m, in \u001b[0;36mpandas._libs.hashtable.PyObjectHashTable.get_item\u001b[1;34m()\u001b[0m\n",
      "\u001b[1;31mKeyError\u001b[0m: 'target'",
      "\nThe above exception was the direct cause of the following exception:\n",
      "\u001b[1;31mKeyError\u001b[0m                                  Traceback (most recent call last)",
      "Input \u001b[1;32mIn [4]\u001b[0m, in \u001b[0;36m<cell line: 19>\u001b[1;34m()\u001b[0m\n\u001b[0;32m     16\u001b[0m \u001b[38;5;28mprint\u001b[39m(result\u001b[38;5;241m.\u001b[39msummary())\n\u001b[0;32m     18\u001b[0m \u001b[38;5;66;03m# Plot results\u001b[39;00m\n\u001b[1;32m---> 19\u001b[0m data_toplot, sub_toplot \u001b[38;5;241m=\u001b[39m \u001b[43mswarmplot_subjects\u001b[49m\u001b[43m(\u001b[49m\u001b[43mhipp_data\u001b[49m\u001b[43m,\u001b[49m\u001b[43m \u001b[49m\u001b[43mkey\u001b[49m\u001b[38;5;241;43m=\u001b[39;49m\u001b[38;5;124;43m'\u001b[39;49m\u001b[38;5;124;43mT\u001b[39;49m\u001b[38;5;124;43m'\u001b[39;49m\u001b[43m)\u001b[49m\n\u001b[0;32m     20\u001b[0m plt\u001b[38;5;241m.\u001b[39mfigure(figsize\u001b[38;5;241m=\u001b[39m(\u001b[38;5;241m10\u001b[39m, \u001b[38;5;241m3\u001b[39m)); ax1\u001b[38;5;241m=\u001b[39mplt\u001b[38;5;241m.\u001b[39msubplot(\u001b[38;5;241m111\u001b[39m)\n\u001b[0;32m     21\u001b[0m sns\u001b[38;5;241m.\u001b[39mswarmplot(data\u001b[38;5;241m=\u001b[39mdata_toplot, size\u001b[38;5;241m=\u001b[39m\u001b[38;5;241m3\u001b[39m,)\n",
      "File \u001b[1;32m~\\Documents\\Python Scripts\\lib\\utils.py:26\u001b[0m, in \u001b[0;36mswarmplot_subjects\u001b[1;34m(res, key)\u001b[0m\n\u001b[0;32m     24\u001b[0m \u001b[38;5;28;01mfor\u001b[39;00m sub \u001b[38;5;129;01min\u001b[39;00m res[\u001b[38;5;124m'\u001b[39m\u001b[38;5;124msubject\u001b[39m\u001b[38;5;124m'\u001b[39m]\u001b[38;5;241m.\u001b[39munique():\n\u001b[0;32m     25\u001b[0m     tmp1 \u001b[38;5;241m=\u001b[39m res[res[\u001b[38;5;124m'\u001b[39m\u001b[38;5;124msubject\u001b[39m\u001b[38;5;124m'\u001b[39m]\u001b[38;5;241m==\u001b[39msub]\n\u001b[1;32m---> 26\u001b[0m     \u001b[38;5;28;01mfor\u001b[39;00m sess \u001b[38;5;129;01min\u001b[39;00m \u001b[43mtmp1\u001b[49m\u001b[43m[\u001b[49m\u001b[38;5;124;43m'\u001b[39;49m\u001b[38;5;124;43mtarget\u001b[39;49m\u001b[38;5;124;43m'\u001b[39;49m\u001b[43m]\u001b[49m\u001b[38;5;241m.\u001b[39munique():\n\u001b[0;32m     27\u001b[0m         tmp2 \u001b[38;5;241m=\u001b[39m tmp1[tmp1[\u001b[38;5;124m'\u001b[39m\u001b[38;5;124mtarget\u001b[39m\u001b[38;5;124m'\u001b[39m]\u001b[38;5;241m==\u001b[39msess]\n\u001b[0;32m     28\u001b[0m         data_toplot\u001b[38;5;241m.\u001b[39mappend(np\u001b[38;5;241m.\u001b[39marray(tmp2[key]))\n",
      "File \u001b[1;32m~\\anaconda3\\envs\\lean\\envs\\mne\\lib\\site-packages\\pandas\\core\\frame.py:3505\u001b[0m, in \u001b[0;36mDataFrame.__getitem__\u001b[1;34m(self, key)\u001b[0m\n\u001b[0;32m   3503\u001b[0m \u001b[38;5;28;01mif\u001b[39;00m \u001b[38;5;28mself\u001b[39m\u001b[38;5;241m.\u001b[39mcolumns\u001b[38;5;241m.\u001b[39mnlevels \u001b[38;5;241m>\u001b[39m \u001b[38;5;241m1\u001b[39m:\n\u001b[0;32m   3504\u001b[0m     \u001b[38;5;28;01mreturn\u001b[39;00m \u001b[38;5;28mself\u001b[39m\u001b[38;5;241m.\u001b[39m_getitem_multilevel(key)\n\u001b[1;32m-> 3505\u001b[0m indexer \u001b[38;5;241m=\u001b[39m \u001b[38;5;28;43mself\u001b[39;49m\u001b[38;5;241;43m.\u001b[39;49m\u001b[43mcolumns\u001b[49m\u001b[38;5;241;43m.\u001b[39;49m\u001b[43mget_loc\u001b[49m\u001b[43m(\u001b[49m\u001b[43mkey\u001b[49m\u001b[43m)\u001b[49m\n\u001b[0;32m   3506\u001b[0m \u001b[38;5;28;01mif\u001b[39;00m is_integer(indexer):\n\u001b[0;32m   3507\u001b[0m     indexer \u001b[38;5;241m=\u001b[39m [indexer]\n",
      "File \u001b[1;32m~\\anaconda3\\envs\\lean\\envs\\mne\\lib\\site-packages\\pandas\\core\\indexes\\base.py:3623\u001b[0m, in \u001b[0;36mIndex.get_loc\u001b[1;34m(self, key, method, tolerance)\u001b[0m\n\u001b[0;32m   3621\u001b[0m     \u001b[38;5;28;01mreturn\u001b[39;00m \u001b[38;5;28mself\u001b[39m\u001b[38;5;241m.\u001b[39m_engine\u001b[38;5;241m.\u001b[39mget_loc(casted_key)\n\u001b[0;32m   3622\u001b[0m \u001b[38;5;28;01mexcept\u001b[39;00m \u001b[38;5;167;01mKeyError\u001b[39;00m \u001b[38;5;28;01mas\u001b[39;00m err:\n\u001b[1;32m-> 3623\u001b[0m     \u001b[38;5;28;01mraise\u001b[39;00m \u001b[38;5;167;01mKeyError\u001b[39;00m(key) \u001b[38;5;28;01mfrom\u001b[39;00m \u001b[38;5;21;01merr\u001b[39;00m\n\u001b[0;32m   3624\u001b[0m \u001b[38;5;28;01mexcept\u001b[39;00m \u001b[38;5;167;01mTypeError\u001b[39;00m:\n\u001b[0;32m   3625\u001b[0m     \u001b[38;5;66;03m# If we have a listlike key, _check_indexing_error will raise\u001b[39;00m\n\u001b[0;32m   3626\u001b[0m     \u001b[38;5;66;03m#  InvalidIndexError. Otherwise we fall through and re-raise\u001b[39;00m\n\u001b[0;32m   3627\u001b[0m     \u001b[38;5;66;03m#  the TypeError.\u001b[39;00m\n\u001b[0;32m   3628\u001b[0m     \u001b[38;5;28mself\u001b[39m\u001b[38;5;241m.\u001b[39m_check_indexing_error(key)\n",
      "\u001b[1;31mKeyError\u001b[0m: 'target'"
     ]
    }
   ],
   "source": [
    "import statsmodels.api as sm\n",
    "import seaborn as sns\n",
    "\n",
    "# Need to drop some electrodes with NaNs (small amount of source EEG data contaminated with NaNs)\n",
    "res_dropna = res.dropna(subset='T')\n",
    "\n",
    "# Isolate hippocampal responses\n",
    "hipp_data = res_dropna[(res_dropna['DKT_label'].str.contains('Hipp'))]\n",
    "\n",
    "# Sessions nested within subjects LMM, specifying subjects as random effects\n",
    "vcf = {'g1':'0+C(session)'}\n",
    "model = sm.MixedLM.from_formula(\"T ~ 1\", data=hipp_data, \n",
    "                                vc_formula=vcf,\n",
    "                                groups='subject')\n",
    "result = model.fit(reml=False)\n",
    "print(result.summary())\n",
    "\n",
    "# Plot results\n",
    "data_toplot, sub_toplot = swarmplot_subjects(hipp_data, key='T')\n",
    "plt.figure(figsize=(10, 3)); ax1=plt.subplot(111)\n",
    "sns.swarmplot(data=data_toplot, size=3,)\n",
    "sns.boxplot(data=data_toplot, whis=0, showfliers=False)\n",
    "plt.xticks(np.arange(len(sub_toplot)), sub_toplot, fontsize=9);\n",
    "plt.hlines([0], xmin=ax1.get_xlim()[0], xmax=ax1.get_xlim()[1], linestyles='--', color='k')\n",
    "plt.yticks(fontsize=14);\n",
    "plt.title('Hippocampal responses');"
   ]
  },
  {
   "cell_type": "markdown",
   "id": "8d7a6947-9f9d-4c3a-aa70-a087644dc130",
   "metadata": {},
   "source": [
    "Note how subject 416 has a dramatically different hippocampal response between stimulation sessions (parietal) and sites (parietal vs. STG)"
   ]
  },
  {
   "cell_type": "markdown",
   "id": "dccebaf6-e887-4276-8949-2972416aa163",
   "metadata": {},
   "source": [
    "#### Population-level MTL response"
   ]
  },
  {
   "cell_type": "code",
   "execution_count": 5,
   "id": "f056aefb-44ee-4765-b98a-65eb1da1f9ca",
   "metadata": {},
   "outputs": [
    {
     "name": "stdout",
     "output_type": "stream",
     "text": [
      "         Mixed Linear Model Regression Results\n",
      "=======================================================\n",
      "Model:            MixedLM Dependent Variable: T        \n",
      "No. Observations: 115     Method:             ML       \n",
      "No. Groups:       12      Scale:              0.4560   \n",
      "Min. group size:  2       Log-Likelihood:     -129.6275\n",
      "Max. group size:  31      Converged:          Yes      \n",
      "Mean group size:  9.6                                  \n",
      "--------------------------------------------------------\n",
      "           Coef.  Std.Err.    z    P>|z|  [0.025  0.975]\n",
      "--------------------------------------------------------\n",
      "Intercept  0.013     0.134  0.096  0.923  -0.250   0.276\n",
      "g1 Var     0.219     0.169                              \n",
      "=======================================================\n",
      "\n"
     ]
    },
    {
     "ename": "KeyError",
     "evalue": "'target'",
     "output_type": "error",
     "traceback": [
      "\u001b[1;31m---------------------------------------------------------------------------\u001b[0m",
      "\u001b[1;31mKeyError\u001b[0m                                  Traceback (most recent call last)",
      "File \u001b[1;32m~\\anaconda3\\envs\\lean\\envs\\mne\\lib\\site-packages\\pandas\\core\\indexes\\base.py:3621\u001b[0m, in \u001b[0;36mIndex.get_loc\u001b[1;34m(self, key, method, tolerance)\u001b[0m\n\u001b[0;32m   3620\u001b[0m \u001b[38;5;28;01mtry\u001b[39;00m:\n\u001b[1;32m-> 3621\u001b[0m     \u001b[38;5;28;01mreturn\u001b[39;00m \u001b[38;5;28;43mself\u001b[39;49m\u001b[38;5;241;43m.\u001b[39;49m\u001b[43m_engine\u001b[49m\u001b[38;5;241;43m.\u001b[39;49m\u001b[43mget_loc\u001b[49m\u001b[43m(\u001b[49m\u001b[43mcasted_key\u001b[49m\u001b[43m)\u001b[49m\n\u001b[0;32m   3622\u001b[0m \u001b[38;5;28;01mexcept\u001b[39;00m \u001b[38;5;167;01mKeyError\u001b[39;00m \u001b[38;5;28;01mas\u001b[39;00m err:\n",
      "File \u001b[1;32m~\\anaconda3\\envs\\lean\\envs\\mne\\lib\\site-packages\\pandas\\_libs\\index.pyx:136\u001b[0m, in \u001b[0;36mpandas._libs.index.IndexEngine.get_loc\u001b[1;34m()\u001b[0m\n",
      "File \u001b[1;32m~\\anaconda3\\envs\\lean\\envs\\mne\\lib\\site-packages\\pandas\\_libs\\index.pyx:163\u001b[0m, in \u001b[0;36mpandas._libs.index.IndexEngine.get_loc\u001b[1;34m()\u001b[0m\n",
      "File \u001b[1;32mpandas\\_libs\\hashtable_class_helper.pxi:5198\u001b[0m, in \u001b[0;36mpandas._libs.hashtable.PyObjectHashTable.get_item\u001b[1;34m()\u001b[0m\n",
      "File \u001b[1;32mpandas\\_libs\\hashtable_class_helper.pxi:5206\u001b[0m, in \u001b[0;36mpandas._libs.hashtable.PyObjectHashTable.get_item\u001b[1;34m()\u001b[0m\n",
      "\u001b[1;31mKeyError\u001b[0m: 'target'",
      "\nThe above exception was the direct cause of the following exception:\n",
      "\u001b[1;31mKeyError\u001b[0m                                  Traceback (most recent call last)",
      "Input \u001b[1;32mIn [5]\u001b[0m, in \u001b[0;36m<cell line: 13>\u001b[1;34m()\u001b[0m\n\u001b[0;32m     10\u001b[0m \u001b[38;5;28mprint\u001b[39m(result\u001b[38;5;241m.\u001b[39msummary())\n\u001b[0;32m     12\u001b[0m \u001b[38;5;66;03m# Plot results\u001b[39;00m\n\u001b[1;32m---> 13\u001b[0m data_toplot, sub_toplot \u001b[38;5;241m=\u001b[39m \u001b[43mswarmplot_subjects\u001b[49m\u001b[43m(\u001b[49m\u001b[43mmtl_data\u001b[49m\u001b[43m,\u001b[49m\u001b[43m \u001b[49m\u001b[43mkey\u001b[49m\u001b[38;5;241;43m=\u001b[39;49m\u001b[38;5;124;43m'\u001b[39;49m\u001b[38;5;124;43mT\u001b[39;49m\u001b[38;5;124;43m'\u001b[39;49m\u001b[43m)\u001b[49m\n\u001b[0;32m     14\u001b[0m plt\u001b[38;5;241m.\u001b[39mfigure(figsize\u001b[38;5;241m=\u001b[39m(\u001b[38;5;241m10\u001b[39m, \u001b[38;5;241m3\u001b[39m)); ax1\u001b[38;5;241m=\u001b[39mplt\u001b[38;5;241m.\u001b[39msubplot(\u001b[38;5;241m111\u001b[39m)\n\u001b[0;32m     15\u001b[0m sns\u001b[38;5;241m.\u001b[39mswarmplot(data\u001b[38;5;241m=\u001b[39mdata_toplot, size\u001b[38;5;241m=\u001b[39m\u001b[38;5;241m3\u001b[39m,)\n",
      "File \u001b[1;32m~\\Documents\\Python Scripts\\lib\\utils.py:26\u001b[0m, in \u001b[0;36mswarmplot_subjects\u001b[1;34m(res, key)\u001b[0m\n\u001b[0;32m     24\u001b[0m \u001b[38;5;28;01mfor\u001b[39;00m sub \u001b[38;5;129;01min\u001b[39;00m res[\u001b[38;5;124m'\u001b[39m\u001b[38;5;124msubject\u001b[39m\u001b[38;5;124m'\u001b[39m]\u001b[38;5;241m.\u001b[39munique():\n\u001b[0;32m     25\u001b[0m     tmp1 \u001b[38;5;241m=\u001b[39m res[res[\u001b[38;5;124m'\u001b[39m\u001b[38;5;124msubject\u001b[39m\u001b[38;5;124m'\u001b[39m]\u001b[38;5;241m==\u001b[39msub]\n\u001b[1;32m---> 26\u001b[0m     \u001b[38;5;28;01mfor\u001b[39;00m sess \u001b[38;5;129;01min\u001b[39;00m \u001b[43mtmp1\u001b[49m\u001b[43m[\u001b[49m\u001b[38;5;124;43m'\u001b[39;49m\u001b[38;5;124;43mtarget\u001b[39;49m\u001b[38;5;124;43m'\u001b[39;49m\u001b[43m]\u001b[49m\u001b[38;5;241m.\u001b[39munique():\n\u001b[0;32m     27\u001b[0m         tmp2 \u001b[38;5;241m=\u001b[39m tmp1[tmp1[\u001b[38;5;124m'\u001b[39m\u001b[38;5;124mtarget\u001b[39m\u001b[38;5;124m'\u001b[39m]\u001b[38;5;241m==\u001b[39msess]\n\u001b[0;32m     28\u001b[0m         data_toplot\u001b[38;5;241m.\u001b[39mappend(np\u001b[38;5;241m.\u001b[39marray(tmp2[key]))\n",
      "File \u001b[1;32m~\\anaconda3\\envs\\lean\\envs\\mne\\lib\\site-packages\\pandas\\core\\frame.py:3505\u001b[0m, in \u001b[0;36mDataFrame.__getitem__\u001b[1;34m(self, key)\u001b[0m\n\u001b[0;32m   3503\u001b[0m \u001b[38;5;28;01mif\u001b[39;00m \u001b[38;5;28mself\u001b[39m\u001b[38;5;241m.\u001b[39mcolumns\u001b[38;5;241m.\u001b[39mnlevels \u001b[38;5;241m>\u001b[39m \u001b[38;5;241m1\u001b[39m:\n\u001b[0;32m   3504\u001b[0m     \u001b[38;5;28;01mreturn\u001b[39;00m \u001b[38;5;28mself\u001b[39m\u001b[38;5;241m.\u001b[39m_getitem_multilevel(key)\n\u001b[1;32m-> 3505\u001b[0m indexer \u001b[38;5;241m=\u001b[39m \u001b[38;5;28;43mself\u001b[39;49m\u001b[38;5;241;43m.\u001b[39;49m\u001b[43mcolumns\u001b[49m\u001b[38;5;241;43m.\u001b[39;49m\u001b[43mget_loc\u001b[49m\u001b[43m(\u001b[49m\u001b[43mkey\u001b[49m\u001b[43m)\u001b[49m\n\u001b[0;32m   3506\u001b[0m \u001b[38;5;28;01mif\u001b[39;00m is_integer(indexer):\n\u001b[0;32m   3507\u001b[0m     indexer \u001b[38;5;241m=\u001b[39m [indexer]\n",
      "File \u001b[1;32m~\\anaconda3\\envs\\lean\\envs\\mne\\lib\\site-packages\\pandas\\core\\indexes\\base.py:3623\u001b[0m, in \u001b[0;36mIndex.get_loc\u001b[1;34m(self, key, method, tolerance)\u001b[0m\n\u001b[0;32m   3621\u001b[0m     \u001b[38;5;28;01mreturn\u001b[39;00m \u001b[38;5;28mself\u001b[39m\u001b[38;5;241m.\u001b[39m_engine\u001b[38;5;241m.\u001b[39mget_loc(casted_key)\n\u001b[0;32m   3622\u001b[0m \u001b[38;5;28;01mexcept\u001b[39;00m \u001b[38;5;167;01mKeyError\u001b[39;00m \u001b[38;5;28;01mas\u001b[39;00m err:\n\u001b[1;32m-> 3623\u001b[0m     \u001b[38;5;28;01mraise\u001b[39;00m \u001b[38;5;167;01mKeyError\u001b[39;00m(key) \u001b[38;5;28;01mfrom\u001b[39;00m \u001b[38;5;21;01merr\u001b[39;00m\n\u001b[0;32m   3624\u001b[0m \u001b[38;5;28;01mexcept\u001b[39;00m \u001b[38;5;167;01mTypeError\u001b[39;00m:\n\u001b[0;32m   3625\u001b[0m     \u001b[38;5;66;03m# If we have a listlike key, _check_indexing_error will raise\u001b[39;00m\n\u001b[0;32m   3626\u001b[0m     \u001b[38;5;66;03m#  InvalidIndexError. Otherwise we fall through and re-raise\u001b[39;00m\n\u001b[0;32m   3627\u001b[0m     \u001b[38;5;66;03m#  the TypeError.\u001b[39;00m\n\u001b[0;32m   3628\u001b[0m     \u001b[38;5;28mself\u001b[39m\u001b[38;5;241m.\u001b[39m_check_indexing_error(key)\n",
      "\u001b[1;31mKeyError\u001b[0m: 'target'"
     ]
    }
   ],
   "source": [
    "# What about MTL electrodes?\n",
    "mtl_filter = (res_dropna['DKT_label'].str.contains('hipp')) | (res_dropna['DKT_label'].str.contains('ento')) | (res_dropna['DKT_label'].str.contains('Hipp'))\n",
    "mtl_data = res_dropna[mtl_filter]\n",
    "\n",
    "vcf = {'g1':'0+C(session)'}\n",
    "model = sm.MixedLM.from_formula(\"T ~ 1\", data=mtl_data, \n",
    "                                vc_formula=vcf,\n",
    "                                groups='subject')\n",
    "result = model.fit(reml=False)\n",
    "print(result.summary())\n",
    "\n",
    "# Plot results\n",
    "data_toplot, sub_toplot = swarmplot_subjects(mtl_data, key='T')\n",
    "plt.figure(figsize=(10, 3)); ax1=plt.subplot(111)\n",
    "sns.swarmplot(data=data_toplot, size=3,)\n",
    "sns.boxplot(data=data_toplot, whis=0, showfliers=False)\n",
    "plt.xticks(np.arange(len(sub_toplot)), sub_toplot, fontsize=9);\n",
    "plt.hlines([0], xmin=ax1.get_xlim()[0], xmax=ax1.get_xlim()[1], linestyles='--', color='k')\n",
    "plt.yticks(fontsize=14);\n",
    "plt.title('MTL responses');"
   ]
  },
  {
   "cell_type": "markdown",
   "id": "bfa5d578-95cd-48c4-b78a-7b298804a100",
   "metadata": {},
   "source": [
    "**Now subdivide by stimulation region (with >3 subjects, i.e. STG, Parietal, and DLPFC)**"
   ]
  },
  {
   "cell_type": "code",
   "execution_count": 6,
   "id": "51b35575-791f-424b-94c1-27464e72ade8",
   "metadata": {},
   "outputs": [
    {
     "ename": "KeyError",
     "evalue": "'target'",
     "output_type": "error",
     "traceback": [
      "\u001b[1;31m---------------------------------------------------------------------------\u001b[0m",
      "\u001b[1;31mKeyError\u001b[0m                                  Traceback (most recent call last)",
      "File \u001b[1;32m~\\anaconda3\\envs\\lean\\envs\\mne\\lib\\site-packages\\pandas\\core\\indexes\\base.py:3621\u001b[0m, in \u001b[0;36mIndex.get_loc\u001b[1;34m(self, key, method, tolerance)\u001b[0m\n\u001b[0;32m   3620\u001b[0m \u001b[38;5;28;01mtry\u001b[39;00m:\n\u001b[1;32m-> 3621\u001b[0m     \u001b[38;5;28;01mreturn\u001b[39;00m \u001b[38;5;28;43mself\u001b[39;49m\u001b[38;5;241;43m.\u001b[39;49m\u001b[43m_engine\u001b[49m\u001b[38;5;241;43m.\u001b[39;49m\u001b[43mget_loc\u001b[49m\u001b[43m(\u001b[49m\u001b[43mcasted_key\u001b[49m\u001b[43m)\u001b[49m\n\u001b[0;32m   3622\u001b[0m \u001b[38;5;28;01mexcept\u001b[39;00m \u001b[38;5;167;01mKeyError\u001b[39;00m \u001b[38;5;28;01mas\u001b[39;00m err:\n",
      "File \u001b[1;32m~\\anaconda3\\envs\\lean\\envs\\mne\\lib\\site-packages\\pandas\\_libs\\index.pyx:136\u001b[0m, in \u001b[0;36mpandas._libs.index.IndexEngine.get_loc\u001b[1;34m()\u001b[0m\n",
      "File \u001b[1;32m~\\anaconda3\\envs\\lean\\envs\\mne\\lib\\site-packages\\pandas\\_libs\\index.pyx:163\u001b[0m, in \u001b[0;36mpandas._libs.index.IndexEngine.get_loc\u001b[1;34m()\u001b[0m\n",
      "File \u001b[1;32mpandas\\_libs\\hashtable_class_helper.pxi:5198\u001b[0m, in \u001b[0;36mpandas._libs.hashtable.PyObjectHashTable.get_item\u001b[1;34m()\u001b[0m\n",
      "File \u001b[1;32mpandas\\_libs\\hashtable_class_helper.pxi:5206\u001b[0m, in \u001b[0;36mpandas._libs.hashtable.PyObjectHashTable.get_item\u001b[1;34m()\u001b[0m\n",
      "\u001b[1;31mKeyError\u001b[0m: 'target'",
      "\nThe above exception was the direct cause of the following exception:\n",
      "\u001b[1;31mKeyError\u001b[0m                                  Traceback (most recent call last)",
      "Input \u001b[1;32mIn [6]\u001b[0m, in \u001b[0;36m<cell line: 17>\u001b[1;34m()\u001b[0m\n\u001b[0;32m     15\u001b[0m \u001b[38;5;66;03m#STG\u001b[39;00m\n\u001b[0;32m     16\u001b[0m plt\u001b[38;5;241m.\u001b[39msubplot(gs[\u001b[38;5;241m0\u001b[39m])\n\u001b[1;32m---> 17\u001b[0m data_toplot, sub_toplot \u001b[38;5;241m=\u001b[39m \u001b[43mswarmplot_subjects\u001b[49m\u001b[43m(\u001b[49m\u001b[43mstg_mtl\u001b[49m\u001b[43m,\u001b[49m\u001b[43m \u001b[49m\u001b[43mkey\u001b[49m\u001b[38;5;241;43m=\u001b[39;49m\u001b[38;5;124;43m'\u001b[39;49m\u001b[38;5;124;43mT\u001b[39;49m\u001b[38;5;124;43m'\u001b[39;49m\u001b[43m)\u001b[49m\n\u001b[0;32m     18\u001b[0m sns\u001b[38;5;241m.\u001b[39mswarmplot(data\u001b[38;5;241m=\u001b[39mdata_toplot, size\u001b[38;5;241m=\u001b[39m\u001b[38;5;241m3\u001b[39m, color\u001b[38;5;241m=\u001b[39m\u001b[38;5;124m'\u001b[39m\u001b[38;5;124mdarkred\u001b[39m\u001b[38;5;124m'\u001b[39m)\n\u001b[0;32m     19\u001b[0m sns\u001b[38;5;241m.\u001b[39mboxplot(data\u001b[38;5;241m=\u001b[39mdata_toplot, whis\u001b[38;5;241m=\u001b[39m\u001b[38;5;241m0\u001b[39m, showfliers\u001b[38;5;241m=\u001b[39m\u001b[38;5;28;01mFalse\u001b[39;00m, color\u001b[38;5;241m=\u001b[39m\u001b[38;5;124m'\u001b[39m\u001b[38;5;124mdarkred\u001b[39m\u001b[38;5;124m'\u001b[39m, boxprops\u001b[38;5;241m=\u001b[39m\u001b[38;5;28mdict\u001b[39m(alpha\u001b[38;5;241m=\u001b[39m\u001b[38;5;241m.3\u001b[39m))\n",
      "File \u001b[1;32m~\\Documents\\Python Scripts\\lib\\utils.py:26\u001b[0m, in \u001b[0;36mswarmplot_subjects\u001b[1;34m(res, key)\u001b[0m\n\u001b[0;32m     24\u001b[0m \u001b[38;5;28;01mfor\u001b[39;00m sub \u001b[38;5;129;01min\u001b[39;00m res[\u001b[38;5;124m'\u001b[39m\u001b[38;5;124msubject\u001b[39m\u001b[38;5;124m'\u001b[39m]\u001b[38;5;241m.\u001b[39munique():\n\u001b[0;32m     25\u001b[0m     tmp1 \u001b[38;5;241m=\u001b[39m res[res[\u001b[38;5;124m'\u001b[39m\u001b[38;5;124msubject\u001b[39m\u001b[38;5;124m'\u001b[39m]\u001b[38;5;241m==\u001b[39msub]\n\u001b[1;32m---> 26\u001b[0m     \u001b[38;5;28;01mfor\u001b[39;00m sess \u001b[38;5;129;01min\u001b[39;00m \u001b[43mtmp1\u001b[49m\u001b[43m[\u001b[49m\u001b[38;5;124;43m'\u001b[39;49m\u001b[38;5;124;43mtarget\u001b[39;49m\u001b[38;5;124;43m'\u001b[39;49m\u001b[43m]\u001b[49m\u001b[38;5;241m.\u001b[39munique():\n\u001b[0;32m     27\u001b[0m         tmp2 \u001b[38;5;241m=\u001b[39m tmp1[tmp1[\u001b[38;5;124m'\u001b[39m\u001b[38;5;124mtarget\u001b[39m\u001b[38;5;124m'\u001b[39m]\u001b[38;5;241m==\u001b[39msess]\n\u001b[0;32m     28\u001b[0m         data_toplot\u001b[38;5;241m.\u001b[39mappend(np\u001b[38;5;241m.\u001b[39marray(tmp2[key]))\n",
      "File \u001b[1;32m~\\anaconda3\\envs\\lean\\envs\\mne\\lib\\site-packages\\pandas\\core\\frame.py:3505\u001b[0m, in \u001b[0;36mDataFrame.__getitem__\u001b[1;34m(self, key)\u001b[0m\n\u001b[0;32m   3503\u001b[0m \u001b[38;5;28;01mif\u001b[39;00m \u001b[38;5;28mself\u001b[39m\u001b[38;5;241m.\u001b[39mcolumns\u001b[38;5;241m.\u001b[39mnlevels \u001b[38;5;241m>\u001b[39m \u001b[38;5;241m1\u001b[39m:\n\u001b[0;32m   3504\u001b[0m     \u001b[38;5;28;01mreturn\u001b[39;00m \u001b[38;5;28mself\u001b[39m\u001b[38;5;241m.\u001b[39m_getitem_multilevel(key)\n\u001b[1;32m-> 3505\u001b[0m indexer \u001b[38;5;241m=\u001b[39m \u001b[38;5;28;43mself\u001b[39;49m\u001b[38;5;241;43m.\u001b[39;49m\u001b[43mcolumns\u001b[49m\u001b[38;5;241;43m.\u001b[39;49m\u001b[43mget_loc\u001b[49m\u001b[43m(\u001b[49m\u001b[43mkey\u001b[49m\u001b[43m)\u001b[49m\n\u001b[0;32m   3506\u001b[0m \u001b[38;5;28;01mif\u001b[39;00m is_integer(indexer):\n\u001b[0;32m   3507\u001b[0m     indexer \u001b[38;5;241m=\u001b[39m [indexer]\n",
      "File \u001b[1;32m~\\anaconda3\\envs\\lean\\envs\\mne\\lib\\site-packages\\pandas\\core\\indexes\\base.py:3623\u001b[0m, in \u001b[0;36mIndex.get_loc\u001b[1;34m(self, key, method, tolerance)\u001b[0m\n\u001b[0;32m   3621\u001b[0m     \u001b[38;5;28;01mreturn\u001b[39;00m \u001b[38;5;28mself\u001b[39m\u001b[38;5;241m.\u001b[39m_engine\u001b[38;5;241m.\u001b[39mget_loc(casted_key)\n\u001b[0;32m   3622\u001b[0m \u001b[38;5;28;01mexcept\u001b[39;00m \u001b[38;5;167;01mKeyError\u001b[39;00m \u001b[38;5;28;01mas\u001b[39;00m err:\n\u001b[1;32m-> 3623\u001b[0m     \u001b[38;5;28;01mraise\u001b[39;00m \u001b[38;5;167;01mKeyError\u001b[39;00m(key) \u001b[38;5;28;01mfrom\u001b[39;00m \u001b[38;5;21;01merr\u001b[39;00m\n\u001b[0;32m   3624\u001b[0m \u001b[38;5;28;01mexcept\u001b[39;00m \u001b[38;5;167;01mTypeError\u001b[39;00m:\n\u001b[0;32m   3625\u001b[0m     \u001b[38;5;66;03m# If we have a listlike key, _check_indexing_error will raise\u001b[39;00m\n\u001b[0;32m   3626\u001b[0m     \u001b[38;5;66;03m#  InvalidIndexError. Otherwise we fall through and re-raise\u001b[39;00m\n\u001b[0;32m   3627\u001b[0m     \u001b[38;5;66;03m#  the TypeError.\u001b[39;00m\n\u001b[0;32m   3628\u001b[0m     \u001b[38;5;28mself\u001b[39m\u001b[38;5;241m.\u001b[39m_check_indexing_error(key)\n",
      "\u001b[1;31mKeyError\u001b[0m: 'target'"
     ]
    },
    {
     "data": {
      "image/png": "[encoded data removed]",
      "text/plain": [
       "<Figure size 936x288 with 1 Axes>"
      ]
     },
     "metadata": {
      "needs_background": "light"
     },
     "output_type": "display_data"
    }
   ],
   "source": [
    "from matplotlib import gridspec\n",
    "\n",
    "par_mtl = mtl_data[mtl_data['session'].str.contains('Parietal')]\n",
    "dlpfc_mtl = mtl_data[mtl_data['session'].str.contains('DLPFC')]\n",
    "stg_mtl = mtl_data[mtl_data['session'].str.contains('STG')]\n",
    "\n",
    "res_par = sm.MixedLM.from_formula(\"T ~ 1\", data=par_mtl, vc_formula=vcf, groups='subject').fit(reml=False)\n",
    "res_dlpfc = sm.MixedLM.from_formula(\"T ~ 1\", data=dlpfc_mtl, vc_formula=vcf, groups='subject').fit(reml=False)\n",
    "res_stg = sm.MixedLM.from_formula(\"T ~ 1\", data=stg_mtl, vc_formula=vcf, groups='subject').fit(reml=False)\n",
    "\n",
    "# Plot results\n",
    "plt.figure(figsize=(13, 4));\n",
    "gs = gridspec.GridSpec(1, 3, width_ratios = [1, 2, 2.2])\n",
    "\n",
    "#STG\n",
    "plt.subplot(gs[0])\n",
    "data_toplot, sub_toplot = swarmplot_subjects(stg_mtl, key='T')\n",
    "sns.swarmplot(data=data_toplot, size=3, color='darkred')\n",
    "sns.boxplot(data=data_toplot, whis=0, showfliers=False, color='darkred', boxprops=dict(alpha=.3))\n",
    "plt.xticks(np.arange(len(sub_toplot)), sub_toplot, fontsize=9);\n",
    "plt.hlines([0], xmin=ax1.get_xlim()[0], xmax=ax1.get_xlim()[1], linestyles='--', color='k')\n",
    "plt.yticks(fontsize=14); plt.ylabel('Hippocampal Response (T)', fontsize=12)\n",
    "plt.ylim(-2.7, 2.7)\n",
    "plt.title('STG Stimulation\\n T: '+str(np.round(res_stg.tvalues[0], 3))+', p: '+str(np.round(res_stg.pvalues[0], 3)), fontsize=14);\n",
    "plt.xticks(fontsize=12)\n",
    "\n",
    "#Parietal\n",
    "plt.subplot(gs[1])\n",
    "data_toplot, sub_toplot = swarmplot_subjects(par_mtl, key='T')\n",
    "sns.swarmplot(data=data_toplot, size=3, color='darkblue')\n",
    "sns.boxplot(data=data_toplot, whis=0, showfliers=False, color='darkblue', boxprops=dict(alpha=0.3))\n",
    "plt.xticks(np.arange(len(sub_toplot)), sub_toplot, fontsize=9);\n",
    "plt.hlines([0], xmin=ax1.get_xlim()[0], xmax=ax1.get_xlim()[1], linestyles='--', color='k')\n",
    "plt.yticks(fontsize=14);\n",
    "plt.ylim(-2.7, 2.7)\n",
    "plt.title('Parietal Stimulation, T: '+str(np.round(res_par.tvalues[0], 3))+', p: '+str(np.round(res_par.pvalues[0], 3)), fontsize=14);\n",
    "plt.xticks(fontsize=12); plt.xlabel('Subject', fontsize=12)\n",
    "\n",
    "#DLPFC\n",
    "plt.subplot(gs[2])\n",
    "data_toplot, sub_toplot = swarmplot_subjects(dlpfc_mtl, key='T')\n",
    "sns.swarmplot(data=data_toplot, size=3, color='darkgreen')\n",
    "sns.boxplot(data=data_toplot, whis=0, showfliers=False, color='darkgreen', boxprops=dict(alpha=0.3))\n",
    "plt.xticks(np.arange(len(sub_toplot)), sub_toplot, fontsize=9);\n",
    "plt.hlines([0], xmin=ax1.get_xlim()[0], xmax=ax1.get_xlim()[1], linestyles='--', color='k')\n",
    "plt.yticks(fontsize=14);\n",
    "plt.ylim(-2.7, 2.7)\n",
    "plt.title('DLPFC Stimulation, T: '+str(np.round(res_dlpfc.tvalues[0], 3))+', p: '+str(np.round(res_dlpfc.pvalues[0], 3)), fontsize=14);\n",
    "plt.xticks(fontsize=12)\n",
    "plt.tight_layout()\n",
    "#plt.savefig('./TMSEEG_plots/LMM_hippocampal_theta_1.1_2.1sec.pdf')"
   ]
  },
  {
   "cell_type": "code",
   "execution_count": 91,
   "id": "c0d025fb-e526-4219-88e1-b65372bba49c",
   "metadata": {},
   "outputs": [
    {
     "data": {
      "image/png": "[encoded data removed]",
      "text/plain": [
       "<Figure size 72x288 with 1 Axes>"
      ]
     },
     "metadata": {
      "needs_background": "light"
     },
     "output_type": "display_data"
    }
   ],
   "source": [
    "# For curiosity, take a look at motor stimulation\n",
    "motor_mtl = mtl_data[mtl_data['session'].str.contains('Motor')]\n",
    "res_motor = sm.MixedLM.from_formula(\"T ~ 1\", data=motor_mtl, vc_formula=vcf, groups='subject').fit(reml=False)\n",
    "\n",
    "plt.figure(figsize=(1, 4))\n",
    "data_toplot, sub_toplot = swarmplot_subjects(motor_mtl, key='T')\n",
    "sns.swarmplot(data=data_toplot, size=3, color='darkgray')\n",
    "sns.boxplot(data=data_toplot, whis=0, showfliers=False, color='darkgray', boxprops=dict(alpha=.3))\n",
    "plt.xticks(np.arange(len(sub_toplot)), sub_toplot, fontsize=9);\n",
    "plt.hlines([0], xmin=ax1.get_xlim()[0], xmax=ax1.get_xlim()[1], linestyles='--', color='k')\n",
    "plt.yticks(fontsize=14);\n",
    "plt.ylim(-2.6, 2.6)\n",
    "plt.title('Motor Stimulation, T: '+str(np.round(res_motor.tvalues[0], 3))+', p: '+str(np.round(res_motor.pvalues[0], 3)));"
   ]
  },
  {
   "cell_type": "code",
   "execution_count": null,
   "id": "5750c531-ffc0-49e3-a855-24fe0e144f24",
   "metadata": {},
   "outputs": [],
   "source": []
  }
 ],
 "metadata": {
  "kernelspec": {
   "display_name": "Python 3 (ipykernel)",
   "language": "python",
   "name": "python3"
  },
  "language_info": {
   "codemirror_mode": {
    "name": "ipython",
    "version": 3
   },
   "file_extension": ".py",
   "mimetype": "text/x-python",
   "name": "python",
   "nbconvert_exporter": "python",
   "pygments_lexer": "ipython3",
   "version": "3.9.13"
  }
 },
 "nbformat": 4,
 "nbformat_minor": 5
}
