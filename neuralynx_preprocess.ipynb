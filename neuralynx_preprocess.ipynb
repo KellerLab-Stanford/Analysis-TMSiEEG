{
 "cells": [
  {
   "cell_type": "code",
   "execution_count": 1,
   "id": "a09ea34e-307e-444a-8ecc-281bcc55ac4a",
   "metadata": {},
   "outputs": [],
   "source": [
    "import mne\n",
    "#import matlab.engine\n",
    "import numpy as np\n",
    "import pandas as pd\n",
    "from glob import glob\n",
    "\n",
    "# For custom codebase\n",
    "import sys\n",
    "sys.path.insert(0, 'C:\\\\Users\\\\esolo\\\\Documents\\\\Python Scripts\\\\lib\\\\')\n",
    "from codebase import *\n",
    "\n",
    "# For parallel processing\n",
    "import multiprocessing as mp\n",
    "n_cpus = mp.cpu_count()"
   ]
  },
  {
   "cell_type": "markdown",
   "id": "91fafd53-fffe-4846-a6e0-84dfea4850f3",
   "metadata": {
    "jp-MarkdownHeadingCollapsed": true,
    "tags": []
   },
   "source": [
    "### MATLAB within Python"
   ]
  },
  {
   "cell_type": "code",
   "execution_count": 223,
   "id": "60f3b0eb-56df-476d-bdc3-f08fafff293b",
   "metadata": {},
   "outputs": [],
   "source": [
    "path = 'C:/Users/esolo/Documents/Python Scripts/TMSEEG_neuralynx/'\n",
    "sub = '404'\n",
    "tmseeg_fnames = glob(path+sub+'/404_020_TMS1/2017-11-13_14-28-23/LFP*ncs')"
   ]
  },
  {
   "cell_type": "code",
   "execution_count": 3,
   "id": "dcf44e98-75a4-4226-b1c5-3ba0dd6c2589",
   "metadata": {},
   "outputs": [],
   "source": [
    "eng = matlab.engine.start_matlab()  #start the MATLAB engine\n",
    "\n",
    "# Set some variables\n",
    "eng.workspace[\"workingdir\"] = path+sub+'/404_019_TMS1/2017-11-13_14-24-01/'\n",
    "eng.workspace[\"ft_path\"] = 'C:/Program Files/MATLAB/R2022a/fieldtrip-20220104/'\n",
    "\n",
    "# Add FieldTrip to path (might need to be done with every new kernel?)\n",
    "eng.eval('addpath(ft_path)', nargout=0)\n",
    "eng.eval('ft_defaults', nargout=0)\n",
    "\n",
    "# Get the Neuralynx LFPs\n",
    "eng.eval('cd(workingdir)');\n",
    "eng.eval('names = dir(\"LFP*ncs\")', nargout=0);\n",
    "eng.eval('fnames = {names.name}', nargout=0)"
   ]
  },
  {
   "cell_type": "code",
   "execution_count": null,
   "id": "6c0cb593-4f6e-423d-84ba-c50e98dc4362",
   "metadata": {},
   "outputs": [],
   "source": [
    "# Read out the data\n",
    "data = eng.eval('ft_read_neuralynx_interp(fnames)')"
   ]
  },
  {
   "cell_type": "markdown",
   "id": "a0748480-b4a3-4155-a601-fadb686b7636",
   "metadata": {},
   "source": [
    "### Read the data using MNE"
   ]
  },
  {
   "cell_type": "markdown",
   "id": "cfd2271e-3d67-4c37-8c7a-b0ed4c7c5c5c",
   "metadata": {},
   "source": [
    "1. Load session-level metadata from the master CSV file (e.g. stimulation target, directory names, target localization, motor thresholds, etc. \n",
    "2. Load EEG data from the .data MAT file output by FieldTrip (MNE cannot yet directly read NLX directories)\n",
    "\n",
    "Raise a warning if NaNs have been detected in the data; this should be rare and handled via linear interpolation in the FieldTrip step. "
   ]
  },
  {
   "cell_type": "code",
   "execution_count": 2,
   "id": "391a6a9a-bc54-4a33-8d66-c3008cc63128",
   "metadata": {
    "tags": []
   },
   "outputs": [
    {
     "name": "stdout",
     "output_type": "stream",
     "text": [
      "Creating RawArray with float64 data, n_channels=256, n_times=1023994\n",
      "    Range : 0 ... 1023993 =      0.000 ...   127.999 secs\n",
      "Ready.\n"
     ]
    }
   ],
   "source": [
    "import warnings\n",
    "warnings.filterwarnings(\"ignore\")  # for the annoying pandas deprecation warning\n",
    "\n",
    "# Load the master CSV file with session metadata\n",
    "root = 'D:/'\n",
    "master = pd.read_csv(root+'master.csv')\n",
    "\n",
    "# Get the session metadata\n",
    "sub = 593\n",
    "sess_num = 0\n",
    "sess_meta = master[master['subject']==str(sub)].iloc[sess_num]\n",
    "sess_name = sess_meta['session_name']\n",
    "sess_type = sess_meta['session_type']\n",
    "\n",
    "# Get the ECoG data from pre-saved FieldTrip data structure (a .mat file in the session directory)\n",
    "from mne.io import read_raw_fieldtrip\n",
    "raw = read_raw_fieldtrip(root+str(sub)+'/'+sess_name+'/data.mat', info=None);\n",
    "\n",
    "# Raise a warning if NaNs are detected in the data\n",
    "my_nans = np.isnan(raw.get_data()).sum()\n",
    "if my_nans>0:\n",
    "    print('WARNING: NaNs detected!')"
   ]
  },
  {
   "cell_type": "markdown",
   "id": "c46a2e08-d966-4115-bc6f-aa14b4125c44",
   "metadata": {},
   "source": [
    "Assign channel type labels; assume all are ECoG to start and re-set depths in the next step. "
   ]
  },
  {
   "cell_type": "code",
   "execution_count": 3,
   "id": "66c70cc3-8114-44ce-8451-51f66328e751",
   "metadata": {
    "tags": []
   },
   "outputs": [],
   "source": [
    "# Create dictionary of channel types\n",
    "ch_types = {}\n",
    "for ch_name in raw.ch_names:\n",
    "    ch_types[ch_name] = 'ecog'\n",
    "    \n",
    "# Set channel types\n",
    "raw.set_channel_types(ch_types)\n",
    "\n",
    "# Get some info\n",
    "native_sampling = raw.info['sfreq']"
   ]
  },
  {
   "cell_type": "markdown",
   "id": "558ac3a9-a40e-49c5-9b54-7e0a84c011f3",
   "metadata": {},
   "source": [
    "1. Load channel information from the supplied CSV files. In general, we will use the \"surfaceRAS\" files which snap ECoG grids/strips to the cortical surface and leave the depths untouched. However, parcellation information is only available in the \"Contacts.csv\" file, so the datasets have to be merged. (In some cases, RAS-snap information is not available, in which case we fall back to the standard \"Contacts.csv\" file. \n",
    "\n",
    "2. Drop any channels which were loaded by FieldTrip but not included in the .CSV files, as they are mostly likely bad or unconnected. \n",
    "\n",
    "3. Re-reference the depth electrodes using a standard bipolar montage (e.g. the difference of all neighboring electrodes). MNE handles most of this automatically and re-labels the channels. We then assign these channels as 'sEEG' type. Note that localization information for the bipolar electrodes is inherited from the anode's localization, but the MNI/avg coordinates reflect the average from the constituent monopolar contacts. (At some point, the localization pipeline should be re-run with the bipolar midpoint as ground truth). \n",
    "\n",
    "4. Remove \"bad\" channels as defined in the master.csv file, including any bipolar electrode which contains at least one \"bad\" channel.\n",
    "\n",
    "5. Perform a common-average re-reference on the ECoG channels, and finally, reconstruct the contacts DataFrame using the bipolar pairs we just created. "
   ]
  },
  {
   "cell_type": "code",
   "execution_count": 4,
   "id": "b6609247-1411-42cf-8696-bdd02beca476",
   "metadata": {},
   "outputs": [],
   "source": [
    "# Load channel info\n",
    "\n",
    "# Apparently we use the RAS coordinates (e.g. snapped to cortical surface) for ground-truth electrode locations, but get the localization data from the '_Contacts.xls' file. So need to combine across 2 CSVs\n",
    "import pandas as pd\n",
    "contacts = pd.read_csv(root+str(sub)+'/'+str(sub)+'_Contacts.csv')  # with localization info\n",
    "try:\n",
    "    RAScoords = pd.read_csv(root+str(sub)+'/'+str(sub)+'_Contacts_surfaceRAS.csv')  # the proper RAS coordinates to use -- sometimes not available.\n",
    "    haveRAS = True\n",
    "except:\n",
    "    haveRAS = False\n",
    "    pass\n",
    "\n",
    "# Merge into one master table if RAS coords are available. WARNING: This step requires the tables to be ordered identically! \n",
    "merged_contacts = contacts.copy()\n",
    "if haveRAS:\n",
    "    merged_contacts[['mniX', 'mniY', 'mniZ']] = RAScoords[['mniX', 'mniY', 'mniZ']]\n",
    "    merged_contacts[['anatX', 'anatY', 'anatZ']] = RAScoords[['anatX', 'anatY', 'anatZ']]\n",
    "else:\n",
    "    pass\n",
    "\n",
    "# Get list of channels to keep and drop (Neuralynx files sometimes contains disconnected channels, so the CSV file takes precedence)\n",
    "chan2keep = ['LFPx'+str(i) for i in list(merged_contacts['Channel'])]\n",
    "chan2drop = [c for c in raw.ch_names if c not in chan2keep]\n",
    "chan2drop_alt = [c for c in chan2keep if c not in raw.ch_names]  # rarely, a channel is asked for by the CSV file which was not in the NCS directory\n",
    "chan2keep_final = [c for c in chan2keep if c not in chan2drop_alt]\n",
    "for c in chan2drop_alt:  # drop channels from the metadata if absent from the NCS directory (so it will not be used to construct bipolar pairs)\n",
    "    idx = merged_contacts[merged_contacts['Channel']==int(c.split('x')[-1])].index[0]\n",
    "    merged_contacts.drop([idx], inplace=True)\n",
    "\n",
    "# Drop unused channels\n",
    "raw.drop_channels(chan2drop)\n",
    "raw.reorder_channels(chan2keep_final)\n",
    "\n",
    "# Bipolar re-reference depth electrodes\n",
    "depths = merged_contacts[merged_contacts['Group'].str.contains('depth', case=False)]\n",
    "a, c = construct_bipolar_montage(depths)\n",
    "raw_bp = mne.set_bipolar_reference(raw, anode=a, cathode=c, ch_name=None, drop_refs=True, copy=True, verbose=False)\n",
    "bpchans = [s for s in raw_bp.ch_names if '-' in s]  # Get the list of bipolar electrodes -- the names will all be hypenated!\n",
    "raw_bp.set_channel_types( dict( list( zip(bpchans,['seeg']*len(bpchans)) ) ) )  # reset the depth electrodes as type 'seeg' so we can reference the corticals seperately\n",
    "\n",
    "# Drop bad channels after bipolar re-referencing to avoid creating weird bipolar pairs\n",
    "try:\n",
    "    bad_names = remove_bad_chans(sess_meta['remove_channels'].split(';'), raw_bp.ch_names)\n",
    "    raw_bp.drop_channels(bad_names)\n",
    "except:\n",
    "    pass\n",
    "\n",
    "# Common average re-reference cortical electrodes\n",
    "corticals = merged_contacts[merged_contacts['Group'].str.contains('^(?!.*depth)', case=False, regex=True)]\n",
    "avg_chans = ['LFPx'+str(i) for i in corticals['Channel']]\n",
    "if len(avg_chans)==0: # if the subject is only depth electrodes\n",
    "    raw_bp_avg = raw_bp.copy()\n",
    "else:\n",
    "    raw_bp_avg, _ = mne.set_eeg_reference(raw_bp, ref_channels='average', ch_type='ecog', copy=True, verbose=False)\n",
    "    \n",
    "# Reconstruct the contacts DataFrame\n",
    "new_contacts = reref_contacts_frame(merged_contacts, raw_bp_avg.ch_names)\n",
    "\n",
    "# Delete unneeded data as these files can be big! \n",
    "del raw_bp"
   ]
  },
  {
   "cell_type": "markdown",
   "id": "375015c4-63ab-46b3-82ff-d72e56e965d8",
   "metadata": {},
   "source": [
    "Visually inspect the average EEG trace across all channels to ensure the automated trigger detection algorithm is working properly. (Should handle most cases very well; basic logic is to (1) take the first-order difference of the signal and (2) use peak detection to identify peaks, including knowledge that peaks should be at least 2 seconds apart and setting a 25% threshold of the maximum observed amplitude.) \n",
    "\n",
    "Ideally, trigger detection would happen via an input channel which contains the stimulation trace itself, but it appears this is usually not available. "
   ]
  },
  {
   "cell_type": "code",
   "execution_count": 6,
   "id": "e1c8c8f3-5199-43e3-815e-56d0c636f22a",
   "metadata": {},
   "outputs": [
    {
     "name": "stdout",
     "output_type": "stream",
     "text": [
      "157 triggers identified.\n"
     ]
    },
    {
     "data": {
      "image/png": "[encoded data removed]",
      "text/plain": [
       "<Figure size 600x250 with 1 Axes>"
      ]
     },
     "metadata": {},
     "output_type": "display_data"
    },
    {
     "data": {
      "image/png": "[encoded data removed]",
      "text/plain": [
       "<Figure size 600x250 with 1 Axes>"
      ]
     },
     "metadata": {},
     "output_type": "display_data"
    }
   ],
   "source": [
    "import pylab as plt\n",
    "%matplotlib inline\n",
    "\n",
    "# Get the trigger times from the data itself (is there a better way to do this?)\n",
    "from scipy.signal import find_peaks\n",
    "\n",
    "# Set some params\n",
    "ord_diff = 1  # may need to take differential to better detect peaks\n",
    "thresh_pct = 0.15   # fraction of maximum amplitude to use as threshold for peak detection\n",
    "\n",
    "# Preload data to run this script faster\n",
    "if 'raw_traces' in globals():\n",
    "    pass\n",
    "else:\n",
    "    raw_traces = np.nanmean(raw.get_data(), 0)\n",
    "\n",
    "# Detect stimulation peaks (better to use un-rereferenced data)\n",
    "trg = np.diff(raw_traces, ord_diff)  #find triggers in the mean EEG\n",
    "thresh = thresh_pct*np.nanmax(trg) #take the threshold as % of the max value\n",
    "pk, _ = find_peaks(trg, height=thresh, distance=native_sampling/2)  #find the trigger peaks\n",
    "print(str(len(pk))+' triggers identified.')\n",
    "\n",
    "# Plot the triggers\n",
    "plt.figure(figsize=(6, 2.5));\n",
    "plt.plot(raw_traces)\n",
    "plt.plot(pk, [thresh*2.1]*len(pk), 'ro')\n",
    "plt.xlabel('Time (samples)'); plt.ylabel('Voltage');\n",
    "\n",
    "# Now w/ first order differential\n",
    "plt.figure(figsize=(6, 2.5));\n",
    "plt.plot(np.diff(raw_traces))\n",
    "plt.plot(pk, [thresh*2.1]*len(pk), 'ro')\n",
    "plt.xlabel('Time (samples)'); plt.ylabel('Voltage');\n",
    "\n",
    "#np.save(root+str(sub)+'/'+sess_name+'/trigs.npy', pk)\n",
    "\n",
    "try:\n",
    "    del raw\n",
    "except NameError:\n",
    "    pass"
   ]
  },
  {
   "cell_type": "code",
   "execution_count": 16,
   "id": "131a796a-c5a1-4fc6-81f5-d9733f87209c",
   "metadata": {},
   "outputs": [
    {
     "data": {
      "text/plain": [
       "150"
      ]
     },
     "execution_count": 16,
     "metadata": {},
     "output_type": "execute_result"
    }
   ],
   "source": [
    "len(pk)"
   ]
  },
  {
   "cell_type": "markdown",
   "id": "e9104895-c5b5-41fb-91c9-175d6884c7c0",
   "metadata": {},
   "source": [
    "Code that identifies \"gaps\" between blocks of stim/sham and assigns them as stim/sham events based on the data included in the master CSV file. Allows user to visually inspect to ensure the gaps were detected properly. "
   ]
  },
  {
   "cell_type": "code",
   "execution_count": 14,
   "id": "5144a95e-1140-454e-8d52-a21442d6b59e",
   "metadata": {},
   "outputs": [
    {
     "name": "stdout",
     "output_type": "stream",
     "text": [
      "WARNING: Gaps and session types do not match!\n"
     ]
    },
    {
     "data": {
      "image/png": "[encoded data removed]",
      "text/plain": [
       "<Figure size 600x250 with 1 Axes>"
      ]
     },
     "metadata": {},
     "output_type": "display_data"
    }
   ],
   "source": [
    "typs = sess_type.split(';')\n",
    "if len(typs)==1:  # no need to identify TMS vs sham events within a single file\n",
    "    evs = dict(zip(pk, typs*len(pk)))   \n",
    "else:\n",
    "    # Find where the session flips from one type to another (look for large gaps between pulse blocks)\n",
    "    pk_diff = np.diff(pk)\n",
    "    gaps = np.where(pk_diff>4*native_sampling)[0]\n",
    "    gap_midpoint = []\n",
    "    for i in gaps:\n",
    "        gap_midpoint.append(pk[i]+int(pk_diff[i]/2))\n",
    "        \n",
    "    # Plot the triggers + gap midpoint\n",
    "    plt.figure(figsize=(6, 2.5));\n",
    "    #plt.plot(np.nanmean(raw_bp_avg.get_data(), 0))\n",
    "    plt.plot(pk, [thresh*2.1]*len(pk), 'ro')\n",
    "    plt.plot(gap_midpoint, [thresh*2.1]*len(gap_midpoint), 'bo')\n",
    "    \n",
    "    np.save(root+str(sub)+'/'+sess_name+'/gap_midpoints.npy', gap_midpoint)\n",
    "    \n",
    "    if len(gap_midpoint)!=(len(typs)-1):\n",
    "        print('WARNING: Gaps and session types do not match!')\n",
    "\n",
    "    # Create event dictionary for each stimulation event based on the gaps between stim blocks\n",
    "    g = 0  # to track the gaps we run through\n",
    "    evs = []\n",
    "    if len(typs)==2:\n",
    "        pks1 = pk[pk<gap_midpoint[g]]\n",
    "        evs.extend(zip(pks1, [typs[0]]*len(pks1)))\n",
    "        pks2 = pk[pk>gap_midpoint[g]]\n",
    "        evs.extend(zip(pks2, [typs[1]]*len(pks2)))\n",
    "    if len(typs)>2:\n",
    "        for t in typs:\n",
    "            if g==0:\n",
    "                pksUse = pk[pk<gap_midpoint[g]]\n",
    "                evs.extend(zip(pksUse, [t]*len(pksUse))) \n",
    "                g = g+1\n",
    "            else:\n",
    "                try:\n",
    "                    pksUse = pk[(pk<gap_midpoint[g]) & (pk>gap_midpoint[g-1])]\n",
    "                except:\n",
    "                    pksUse = pk[pk>gap_midpoint[g-1]]\n",
    "                g = g+1\n",
    "                evs.extend(zip(pksUse, [t]*len(pksUse)))        \n",
    "    evs = dict(evs)"
   ]
  },
  {
   "cell_type": "code",
   "execution_count": 9,
   "id": "ba304dda-32f1-463e-a098-999dc3fafadb",
   "metadata": {},
   "outputs": [],
   "source": [
    "# Complete creation of an Events dataframe\n",
    "Events = pd.DataFrame()\n",
    "\n",
    "for k in evs.keys(): \n",
    "    mydict = {'sample': k, 'type': evs[k]}\n",
    "    mydict.update(sess_meta[['session_name', 'target', 'target_contact', 'cutaneous_sham', 'machine_threshold', 'avg.x', 'avg.y', 'avg.z', 'frequency', 'auditory']])\n",
    "    Events = Events.append(mydict, ignore_index=True)"
   ]
  },
  {
   "cell_type": "code",
   "execution_count": 10,
   "id": "698df399-10fa-465f-8d3b-4bd7093b12ba",
   "metadata": {
    "tags": []
   },
   "outputs": [
    {
     "name": "stdout",
     "output_type": "stream",
     "text": [
      "Creating RawArray with float64 data, n_channels=206, n_times=902144\n",
      "    Range : 0 ... 902143 =      0.000 ...   112.768 secs\n",
      "Ready.\n"
     ]
    }
   ],
   "source": [
    "# Filtering steps: (0) high-pass filter 0.1 Hz, (1) scrub stim artifact, (2) Notch, (3) Downsample, (4) optional: 35Hz low-pass (for ERPs)\n",
    "raw_bp_avg = raw_bp_avg.filter(h_freq=None, l_freq=0.1, n_jobs=n_cpus, verbose=False)\n",
    "\n",
    "# Scrub artifact and re-create Raw object\n",
    "eeg_array = raw_bp_avg.get_data()\n",
    "for c in range(eeg_array.shape[0]):\n",
    "    eeg_array[c, :] = interpolate_stim(eeg_array[c, :], Events['sample'], sfreq=raw_bp_avg.info['sfreq'])\n",
    "scrub = mne.io.RawArray(eeg_array, info=raw_bp_avg.info)"
   ]
  },
  {
   "cell_type": "code",
   "execution_count": 11,
   "id": "d4e6e7d5-9d03-45d5-b13c-0c8da277f282",
   "metadata": {},
   "outputs": [],
   "source": [
    "#scrub = scrub.resample(sfreq=1000, n_jobs=n_cpus, verbose=False)  # rarely, may need to downsample to 1000Hz before notching due to memory limits in large files\n",
    "\n",
    "nfilt = scrub.notch_filter(freqs = [60, 120, 180], method='spectrum_fit', n_jobs=n_cpus, verbose=False)  # notch out the line noise\n",
    "\n",
    "fs = 500  # resample to 500Hz (MNE will automatically low-pass to avoid aliasing)\n",
    "nfilt_rs = nfilt.resample(sfreq=fs, n_jobs=n_cpus, verbose=False)\n",
    "\n",
    "# Note that the Events sample times will need to be adjusted after downsampling step (careful not to re-run this line!)\n",
    "dsample = int(native_sampling/fs)\n",
    "adj_samps = np.array(Events['sample']/dsample)\n",
    "Events['sample'] = adj_samps.astype(int)\n",
    "\n",
    "# Optional: 35 Hz low-pass for ERP analysis\n",
    "#lp = nfilt_rs.copy().filter(h_freq=35, l_freq=None, n_jobs=n_cpus, verbose=False)"
   ]
  },
  {
   "cell_type": "code",
   "execution_count": 12,
   "id": "0df081e8-8376-4e14-b080-4f1c066d618a",
   "metadata": {},
   "outputs": [
    {
     "name": "stdout",
     "output_type": "stream",
     "text": [
      "Adding metadata with 12 columns\n",
      "50 matching events found\n",
      "No baseline correction applied\n",
      "0 projection items activated\n"
     ]
    }
   ],
   "source": [
    "# Restructure into EpochsArray object\n",
    "mne_events = np.empty([len(Events), 3])\n",
    "mne_events[:, 0] = Events['sample']  # the timepoints for each event in samples\n",
    "mne_events[:, 1] = 0  # unsure what the column does exactly, probably OK to be zero per MNE documentation\n",
    "mne_events[:, 2] = np.array([0 if i=='sham' else 1 for i in list(Events['type'])]) # the type of event, encoded as a variable. We'll use 0 for sham and 1 for TMS\n",
    "\n",
    "# MNE can only take event dictionaries for event types native_samplingually exist in the current dataset (annoying)\n",
    "if (1 in mne_events[:, 2]) and (0 not in mne_events[:, 2]):  \n",
    "    event_id = {'tms':1}\n",
    "elif (1 not in mne_events[:, 2]) and (0 in mne_events[:, 2]):\n",
    "    event_id = {'sham':0}\n",
    "else:\n",
    "    event_id = {'sham':0, 'tms':1}\n",
    "\n",
    "epochs = mne.Epochs(nfilt_rs, events=mne_events.astype(int), event_id=event_id, tmin=-0.5, tmax=2.0, metadata=Events, baseline=None, \n",
    "                   reject_by_annotation=False)"
   ]
  },
  {
   "cell_type": "code",
   "execution_count": 15,
   "id": "8e5a9e8a-c9cc-4dc6-9a29-3a6e678f27e9",
   "metadata": {},
   "outputs": [
    {
     "name": "stdout",
     "output_type": "stream",
     "text": [
      "Using data from preloaded Raw for 48 events and 1251 original time points ...\n",
      "Using qt as 2D backend.\n",
      "Opening epochs-browser...\n",
      "Using data from preloaded Raw for 20 events and 1251 original time points ...\n",
      "Using data from preloaded Raw for 5 events and 1251 original time points ...\n",
      "Using data from preloaded Raw for 5 events and 1251 original time points ...\n",
      "Using data from preloaded Raw for 5 events and 1251 original time points ...\n",
      "Using data from preloaded Raw for 5 events and 1251 original time points ...\n",
      "Using data from preloaded Raw for 5 events and 1251 original time points ...\n",
      "Using data from preloaded Raw for 20 events and 1251 original time points ...\n",
      "Using data from preloaded Raw for 5 events and 1251 original time points ...\n",
      "Using data from preloaded Raw for 5 events and 1251 original time points ...\n",
      "Using data from preloaded Raw for 20 events and 1251 original time points ...\n",
      "Using data from preloaded Raw for 5 events and 1251 original time points ...\n",
      "Using data from preloaded Raw for 5 events and 1251 original time points ...\n"
     ]
    },
    {
     "data": {
      "text/plain": [
       "<mne_qt_browser._pg_figure.MNEQtBrowser at 0x26695c60160>"
      ]
     },
     "execution_count": 15,
     "metadata": {},
     "output_type": "execute_result"
    },
    {
     "name": "stdout",
     "output_type": "stream",
     "text": [
      "Using data from preloaded Raw for 5 events and 1251 original time points ...\n",
      "Closing epochs-browser...\n",
      "Dropped 0 epochs: \n",
      "The following epochs were marked as bad and are dropped:\n",
      "[]\n",
      "Channels marked as bad:\n",
      "none\n"
     ]
    }
   ],
   "source": [
    "epochs.plot(scalings='auto')"
   ]
  },
  {
   "cell_type": "code",
   "execution_count": 14,
   "id": "0bc67cf2-4644-4ca7-8d6c-f01d84293fd7",
   "metadata": {
    "tags": []
   },
   "outputs": [
    {
     "name": "stdout",
     "output_type": "stream",
     "text": [
      "Using data from preloaded Raw for 50 events and 1251 original time points ...\n",
      "0 bad epochs dropped\n",
      "Using data from preloaded Raw for 1 events and 1251 original time points ...\n",
      "Using data from preloaded Raw for 50 events and 1251 original time points ...\n"
     ]
    }
   ],
   "source": [
    "# Save the result\n",
    "epochs.save(root+str(sub)+'/'+sess_name+'/processed_epo.fif', overwrite=True)\n",
    "new_contacts.to_pickle(root+str(sub)+'/'+sess_name+'/contacts.pkl')"
   ]
  },
  {
   "cell_type": "code",
   "execution_count": null,
   "id": "5b0c5615-7195-47d9-9e87-96be84d832b0",
   "metadata": {},
   "outputs": [],
   "source": []
  }
 ],
 "metadata": {
  "kernelspec": {
   "display_name": "Python 3 (ipykernel)",
   "language": "python",
   "name": "python3"
  },
  "language_info": {
   "codemirror_mode": {
    "name": "ipython",
    "version": 3
   },
   "file_extension": ".py",
   "mimetype": "text/x-python",
   "name": "python",
   "nbconvert_exporter": "python",
   "pygments_lexer": "ipython3",
   "version": "3.9.13"
  }
 },
 "nbformat": 4,
 "nbformat_minor": 5
}
