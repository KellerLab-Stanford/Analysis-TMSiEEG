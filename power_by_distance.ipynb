{
 "cells": [
  {
   "cell_type": "code",
   "execution_count": 1,
   "id": "b97fa024-89b8-4347-8a1c-c563f363cf60",
   "metadata": {},
   "outputs": [],
   "source": [
    "import numpy as np\n",
    "import mne\n",
    "from glob import glob\n",
    "import pandas as pd\n",
    "import pylab as plt\n",
    "\n",
    "# For parallel processing\n",
    "import multiprocessing as mp\n",
    "n_cpus = mp.cpu_count()\n",
    "\n",
    "# For custom codebase\n",
    "import sys\n",
    "sys.path.insert(0, 'C:\\\\Users\\\\esolo\\\\Documents\\\\Python Scripts\\\\lib')\n",
    "from codebase import good_subs, target_dict"
   ]
  },
  {
   "cell_type": "code",
   "execution_count": 2,
   "id": "944f0b6a-3388-44ac-9e23-6571ec5c3d53",
   "metadata": {},
   "outputs": [
    {
     "name": "stdout",
     "output_type": "stream",
     "text": [
      "404\n",
      "405\n",
      "416\n",
      "423\n",
      "429\n",
      "430\n",
      "477\n",
      "483\n",
      "518\n",
      "534\n",
      "538\n",
      "559\n",
      "561\n"
     ]
    }
   ],
   "source": [
    "import pandas as pd\n",
    "from mne.time_frequency import psd_array_multitaper\n",
    "from scipy.stats import ttest_ind\n",
    "from codebase import get_window_power\n",
    "\n",
    "import warnings\n",
    "warnings.filterwarnings(\"ignore\")  # using this for a really dumb deprecation warning, nothing dangerous is happening\n",
    "\n",
    "res = pd.DataFrame() # for storing our outputs\n",
    "\n",
    "# Set some params\n",
    "fs = 500 #saved data is all 500Hz sampling rate\n",
    "freqs = [3, 8]\n",
    "start_time = 1.1 # in seconds\n",
    "win_size = 1.0 # in seconds\n",
    "subtract_baseline = True\n",
    "baseline_start = 0; baseline_win = 0.45 # for subtracting off baseline power\n",
    "\n",
    "for sub in list(good_subs.keys()): #loop through subjects\n",
    "    for sess in good_subs[sub]:  #loop through stim sites/sessions\n",
    "\n",
    "        # Load the data\n",
    "        tms_dat = np.load('./TMSEEG_data/'+sub+'/'+sub+'_TMS_'+sess+'_0_5Hz_1-CleanedFilteredSubsampled.npy')  # using the -0.5 to 2 second files\n",
    "        sham_dat = np.load('./TMSEEG_data/'+sub+'/'+sub+'_Sham_'+sess+'_0_5Hz_1-CleanedFilteredSubsampled.npy')\n",
    "        elecs = pd.read_pickle('./TMSEEG_data/'+sub+'/'+sub+'_'+sess+'_elecs.pkl')\n",
    "        \n",
    "        # Get target electrode/coordinates\n",
    "        target_channel = target_dict[sub][sess][-1]\n",
    "        target_xyz = np.array(target_dict[sub][sess][0:3])\n",
    "        \n",
    "        ## TMS epochs ##\n",
    "        psd_tms, freqs_used = get_window_power(tms_dat, fs=fs, start_time=start_time, win_size=win_size, freqs=freqs, n_cpus=n_cpus)  #output is trials x chans, averaging over frequencies\n",
    "    \n",
    "        ## Sham epochs ##\n",
    "        psd_sham, freqs_used = get_window_power(sham_dat, fs=fs, start_time=start_time, win_size=win_size, freqs=freqs, n_cpus=n_cpus)\n",
    "        \n",
    "        if subtract_baseline:\n",
    "            psd_tms_baseline, bs_freqs_used = get_window_power(tms_dat, fs=fs, start_time=baseline_start, win_size=baseline_win, freqs=freqs, n_cpus=n_cpus)\n",
    "            psd_sham_baseline, _ = get_window_power(sham_dat, fs=fs, start_time=baseline_start, win_size=baseline_win, freqs=freqs, n_cpus=n_cpus)\n",
    "            \n",
    "            psd_tms = psd_tms-psd_tms_baseline\n",
    "            psd_sham = psd_sham-psd_sham_baseline\n",
    "        \n",
    "        # Get TMS vs Sham T-statistic\n",
    "        t, p = ttest_ind(psd_tms, psd_sham, axis=0, equal_var=False)\n",
    "        \n",
    "        # Remove saturated electrodes (thresholding the TEPs)\n",
    "        from codebase import get_saturated_elecs\n",
    "        sat_elecs = get_saturated_elecs(tms_dat, samples=250, thresh_=2)\n",
    "        \n",
    "        for idx in range(len(t)): #loop through electrodes\n",
    "            elec_dict = dict(elecs.iloc[idx])  # harvest electrode information\n",
    "            \n",
    "            # Flag saturated electrodes\n",
    "            if idx in sat_elecs:\n",
    "                sat_flag=True\n",
    "            else:\n",
    "                sat_flag=False\n",
    "                \n",
    "            # Get Euclidean distance to stim site\n",
    "            elec_xyz = np.array(elecs.iloc[idx][['anatX', 'anatY', 'anatZ']])\n",
    "            euc_dist = np.linalg.norm(target_xyz-elec_xyz)\n",
    "            if euc_dist<77.7:\n",
    "                distance_category = 'close'\n",
    "            elif (euc_dist>77.7) & (euc_dist<105.11):\n",
    "                distance_category = 'middle'\n",
    "            else:\n",
    "                distance_category = 'far'\n",
    "            \n",
    "            mydict = {'subject': sub, 'session': sess, 'elec_idx': idx, 'T': t[idx], 'pval': p[idx], \n",
    "                     'powers_tms': psd_tms[:, idx], 'powers_sham': psd_sham[:, idx], 'saturated': sat_flag,\n",
    "                     'target_channel': target_channel, 'target_x': target_xyz[0], 'target_y': target_xyz[1], \n",
    "                     'target_z': target_xyz[2], 'target_distance': euc_dist, 'distance_category': distance_category}\n",
    "            mydict.update(elec_dict)\n",
    "            \n",
    "            # Update the DataFrame\n",
    "            res = res.append(mydict, ignore_index=True)\n",
    "    print(sub)"
   ]
  },
  {
   "cell_type": "markdown",
   "id": "8e561af9-e59f-4a55-b9f8-396e1151338c",
   "metadata": {},
   "source": [
    "#### Remove possible artifactual responses\n",
    "Despite this being \"cleaned\" data, some amplifier saturation does occur"
   ]
  },
  {
   "cell_type": "code",
   "execution_count": 3,
   "id": "27f8d752-d27a-400b-9443-9b8a3da8aed4",
   "metadata": {},
   "outputs": [],
   "source": [
    "# Simplest method: apply a T-value threshold (only expect this in the positive direction)\n",
    "# res = res[res['T']<5]\n",
    "\n",
    "# Alternate method: Measure the TEP for each electrode and set a t-value threshold\n",
    "# This will do a good job capturing the saturated channels (e.g. sub 559, elec 62; sub 561, elec 195)\n",
    "res = res[res['saturated']==False]\n",
    "\n",
    "# Yet another method: Ensure that stimulated electrodes are excluded from analysis\n",
    "\n",
    "# Remove epileptogenic electrodes\n",
    "res = res[res['Seizure_Exclude']==0]\n",
    "\n",
    "# Z-score the target distances for linear modeling\n",
    "from scipy.stats import zscore\n",
    "res['target_distance'] = zscore(res['target_distance'])"
   ]
  },
  {
   "cell_type": "code",
   "execution_count": 12,
   "id": "2738efc7-ff97-4837-9540-d9454d7a6241",
   "metadata": {},
   "outputs": [
    {
     "name": "stdout",
     "output_type": "stream",
     "text": [
      "         Mixed Linear Model Regression Results\n",
      "========================================================\n",
      "Model:            MixedLM Dependent Variable: T         \n",
      "No. Observations: 848     Method:             ML        \n",
      "No. Groups:       13      Scale:              0.6104    \n",
      "Min. group size:  10      Log-Likelihood:     -1014.3706\n",
      "Max. group size:  156     Converged:          Yes       \n",
      "Mean group size:  65.2                                  \n",
      "---------------------------------------------------------\n",
      "            Coef.  Std.Err.    z    P>|z|  [0.025  0.975]\n",
      "---------------------------------------------------------\n",
      "Intercept   0.059     0.091  0.642  0.521  -0.121   0.238\n",
      "g1 Var      0.135     0.065                              \n",
      "========================================================\n",
      "\n"
     ]
    },
    {
     "data": {
      "image/png": "[encoded data removed]",
      "text/plain": [
       "<Figure size 1080x288 with 1 Axes>"
      ]
     },
     "metadata": {
      "needs_background": "light"
     },
     "output_type": "display_data"
    }
   ],
   "source": [
    "from utils import swarmplot_subjects\n",
    "import statsmodels.api as sm\n",
    "import seaborn as sns\n",
    "\n",
    "# Need to drop some electrodes with NaNs (small amount of source EEG data contaminated with NaNs)\n",
    "res_dropna = res.dropna(subset='T')\n",
    "res_dropna = res_dropna[res_dropna['distance_category'].str.contains('close')]\n",
    "\n",
    "# Sessions nested within subjects LMM, specifying subjects as random effects\n",
    "vcf = {'g1':'0+C(session)'}\n",
    "\n",
    "model = sm.MixedLM.from_formula(\"T ~ 1\", data=res_dropna, \n",
    "                               vc_formula=vcf,\n",
    "                               groups='subject')\n",
    "\n",
    "# model = sm.MixedLM.from_formula(\"T ~ 1 + C(distance_category, Treatment(0))\", data=res_dropna, \n",
    "#                                 vc_formula=vcf,\n",
    "#                                 groups='subject')\n",
    "\n",
    "result = model.fit(reml=False)\n",
    "print(result.summary())\n",
    "\n",
    "# Plot results\n",
    "data_toplot, sub_toplot = swarmplot_subjects(res_dropna, key='T')\n",
    "plt.figure(figsize=(15, 4)); ax1=plt.subplot(111)\n",
    "sns.swarmplot(data=data_toplot, size=3, alpha=0.6)\n",
    "sns.boxplot(data=data_toplot, whis=0, showfliers=False)\n",
    "plt.xticks(np.arange(len(sub_toplot)), sub_toplot, fontsize=11);\n",
    "plt.hlines([0], xmin=ax1.get_xlim()[0], xmax=ax1.get_xlim()[1], linestyles='--', color='k')\n",
    "plt.yticks(fontsize=14);\n",
    "\n",
    "# Save figure\n",
    "#plt.savefig('./TMSEEG_plots/LMM_distribution_plot_HFA_0.6_0.9sec.pdf')"
   ]
  },
  {
   "cell_type": "markdown",
   "id": "3e95a996-4b5e-40fe-befa-992597322a97",
   "metadata": {},
   "source": [
    "**Plot power response by subject-level average**"
   ]
  },
  {
   "cell_type": "code",
   "execution_count": 5,
   "id": "838c55b8-7bff-4001-8cac-0e676d3798b9",
   "metadata": {},
   "outputs": [
    {
     "data": {
      "image/png": "[encoded data removed]",
      "text/plain": [
       "<Figure size 144x216 with 1 Axes>"
      ]
     },
     "metadata": {
      "needs_background": "light"
     },
     "output_type": "display_data"
    }
   ],
   "source": [
    "plt.figure(figsize=(2, 3)); ax=plt.subplot(111)\n",
    "\n",
    "# Average effects per subject (for purposes of plotting)\n",
    "c_mu = np.nanmean(res_dropna[res_dropna['distance_category']=='close'].groupby('subject').mean()['T'])\n",
    "m_mu = np.nanmean(res_dropna[res_dropna['distance_category']=='middle'].groupby('subject').mean()['T'])\n",
    "f_mu = np.nanmean(res_dropna[res_dropna['distance_category']=='far'].groupby('subject').mean()['T'])\n",
    "\n",
    "from scipy.stats import sem\n",
    "c_sem = sem(res_dropna[res_dropna['distance_category']=='close'].groupby('subject').mean()['T'])\n",
    "m_sem = sem(res_dropna[res_dropna['distance_category']=='middle'].groupby('subject').mean()['T'])\n",
    "f_sem = sem(res_dropna[res_dropna['distance_category']=='far'].groupby('subject').mean()['T'])\n",
    "\n",
    "# Plot results\n",
    "plt.errorbar([0, 1, 2], [c_mu, m_mu, f_mu], yerr=[c_sem, m_sem, f_sem], marker='o', elinewidth=3, linewidth=0, ecolor='gray', color='black')\n",
    "plt.hlines([0], xmin=ax.get_xlim()[0], xmax=ax.get_xlim()[1], linestyles='--', color='k')\n",
    "plt.ylim(-0.1, 0.4)\n",
    "plt.xticks(fontsize=0);\n",
    "\n",
    "# Save figure\n",
    "#plt.savefig('./TMSEEG_plots/distance_terciles_theta_1.1_2.1sec.pdf')"
   ]
  },
  {
   "cell_type": "markdown",
   "id": "947e73e7-4178-4d0a-bf58-38269f95bfa4",
   "metadata": {},
   "source": [
    "**Power response by session-level average**"
   ]
  },
  {
   "cell_type": "code",
   "execution_count": 6,
   "id": "ca6edd8f-256e-4bf7-b8d0-81f28e699b1c",
   "metadata": {},
   "outputs": [
    {
     "data": {
      "image/png": "[encoded data removed]",
      "text/plain": [
       "<Figure size 144x216 with 1 Axes>"
      ]
     },
     "metadata": {
      "needs_background": "light"
     },
     "output_type": "display_data"
    }
   ],
   "source": [
    "plt.figure(figsize=(2, 3)); ax=plt.subplot(111)\n",
    "\n",
    "# Average effects per subject (for purposes of plotting)\n",
    "c_mu = np.nanmean(res_dropna[res_dropna['distance_category']=='close'].groupby(['subject', 'session']).mean()['T'])\n",
    "m_mu = np.nanmean(res_dropna[res_dropna['distance_category']=='middle'].groupby(['subject', 'session']).mean()['T'])\n",
    "f_mu = np.nanmean(res_dropna[res_dropna['distance_category']=='far'].groupby(['subject', 'session']).mean()['T'])\n",
    "\n",
    "from scipy.stats import sem\n",
    "c_sem = sem(res_dropna[res_dropna['distance_category']=='close'].groupby(['subject', 'session']).mean()['T'])\n",
    "m_sem = sem(res_dropna[res_dropna['distance_category']=='middle'].groupby(['subject', 'session']).mean()['T'])\n",
    "f_sem = sem(res_dropna[res_dropna['distance_category']=='far'].groupby(['subject', 'session']).mean()['T'])\n",
    "\n",
    "# Plot results\n",
    "plt.errorbar([0, 1, 2], [c_mu, m_mu, f_mu], yerr=[c_sem, m_sem, f_sem], marker='o', elinewidth=3, linewidth=0, ecolor='gray', color='black')\n",
    "plt.hlines([0], xmin=ax.get_xlim()[0], xmax=ax.get_xlim()[1], linestyles='--', color='k')\n",
    "plt.ylim(-0.1, 0.4)\n",
    "plt.xticks(fontsize=0);\n",
    "\n",
    "# Save figure\n",
    "#plt.savefig('./TMSEEG_plots/distance_terciles_theta_1.1_2.1sec.pdf')"
   ]
  },
  {
   "cell_type": "markdown",
   "id": "dcac8f6a-3e0f-41e1-b5fe-a1a16e8512d0",
   "metadata": {},
   "source": [
    "**Plot power response by electrode-level average**"
   ]
  },
  {
   "cell_type": "code",
   "execution_count": 7,
   "id": "ec7ddea6-a6b8-403c-a335-4fb86b7e0c03",
   "metadata": {},
   "outputs": [
    {
     "data": {
      "image/png": "[encoded data removed]",
      "text/plain": [
       "<Figure size 144x216 with 1 Axes>"
      ]
     },
     "metadata": {
      "needs_background": "light"
     },
     "output_type": "display_data"
    }
   ],
   "source": [
    "plt.figure(figsize=(2, 3)); ax=plt.subplot(111)\n",
    "\n",
    "# Average effects per subject (for purposes of plotting)\n",
    "c_mu = np.nanmean(res_dropna[res_dropna['distance_category']=='close']['T'])\n",
    "m_mu = np.nanmean(res_dropna[res_dropna['distance_category']=='middle']['T'])\n",
    "f_mu = np.nanmean(res_dropna[res_dropna['distance_category']=='far']['T'])\n",
    "\n",
    "from scipy.stats import sem\n",
    "c_sem = sem(res_dropna[res_dropna['distance_category']=='close']['T'])\n",
    "m_sem = sem(res_dropna[res_dropna['distance_category']=='middle']['T'])\n",
    "f_sem = sem(res_dropna[res_dropna['distance_category']=='far']['T'])\n",
    "\n",
    "# Plot results\n",
    "plt.errorbar([0, 1, 2], [c_mu, m_mu, f_mu], yerr=[c_sem, m_sem, f_sem], marker='o', elinewidth=3, linewidth=0, ecolor='gray', color='black')\n",
    "plt.hlines([0], xmin=ax.get_xlim()[0], xmax=ax.get_xlim()[1], linestyles='--', color='k')\n",
    "plt.ylim(-0.1, 0.4)\n",
    "plt.xticks(fontsize=0);\n",
    "\n",
    "# Save figure\n",
    "#plt.savefig('./TMSEEG_plots/distance_terciles_theta_1.1_2.1sec.pdf')"
   ]
  },
  {
   "cell_type": "code",
   "execution_count": null,
   "id": "cb48b0cb-b3ce-4194-8f7b-0d0ff7d60c94",
   "metadata": {},
   "outputs": [],
   "source": []
  }
 ],
 "metadata": {
  "kernelspec": {
   "display_name": "Python 3 (ipykernel)",
   "language": "python",
   "name": "python3"
  },
  "language_info": {
   "codemirror_mode": {
    "name": "ipython",
    "version": 3
   },
   "file_extension": ".py",
   "mimetype": "text/x-python",
   "name": "python",
   "nbconvert_exporter": "python",
   "pygments_lexer": "ipython3",
   "version": "3.9.13"
  }
 },
 "nbformat": 4,
 "nbformat_minor": 5
}
